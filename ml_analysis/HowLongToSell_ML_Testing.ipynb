{
 "cells": [
  {
   "cell_type": "code",
   "execution_count": 1,
   "id": "d646050a",
   "metadata": {},
   "outputs": [],
   "source": [
    "import pandas as pd\n",
    "import numpy as np\n",
    "import psycopg2\n",
    "import pathlib as Path\n",
    "import datetime as dt\n",
    "import matplotlib.pyplot as plt\n",
    "from sklearn.preprocessing import StandardScaler, MinMaxScaler"
   ]
  },
  {
   "cell_type": "code",
   "execution_count": 2,
   "id": "1cc669ee",
   "metadata": {},
   "outputs": [],
   "source": [
    "from sklearn.metrics import balanced_accuracy_score\n",
    "from sklearn.metrics import confusion_matrix\n",
    "from imblearn.metrics import classification_report_imbalanced"
   ]
  },
  {
   "cell_type": "code",
   "execution_count": 3,
   "id": "3f5e7169",
   "metadata": {},
   "outputs": [
    {
     "ename": "ModuleNotFoundError",
     "evalue": "No module named 'config'",
     "output_type": "error",
     "traceback": [
      "\u001b[1;31m---------------------------------------------------------------------------\u001b[0m",
      "\u001b[1;31mModuleNotFoundError\u001b[0m                       Traceback (most recent call last)",
      "\u001b[1;32m~\\AppData\\Local\\Temp\\ipykernel_2444\\2350447684.py\u001b[0m in \u001b[0;36m<module>\u001b[1;34m\u001b[0m\n\u001b[0;32m      1\u001b[0m \u001b[1;31m# Note - You must set up your own config file\u001b[0m\u001b[1;33m\u001b[0m\u001b[1;33m\u001b[0m\u001b[1;33m\u001b[0m\u001b[0m\n\u001b[1;32m----> 2\u001b[1;33m \u001b[1;32mfrom\u001b[0m \u001b[0mconfig\u001b[0m \u001b[1;32mimport\u001b[0m \u001b[0mdb_password\u001b[0m\u001b[1;33m\u001b[0m\u001b[1;33m\u001b[0m\u001b[0m\n\u001b[0m",
      "\u001b[1;31mModuleNotFoundError\u001b[0m: No module named 'config'"
     ]
    }
   ],
   "source": [
    "# Note - You must set up your own config file\n",
    "from config import db_password"
   ]
  },
  {
   "cell_type": "code",
   "execution_count": null,
   "id": "b33a5726",
   "metadata": {},
   "outputs": [],
   "source": [
    "# Name the SQL database your are accessing\n",
    "database = \"RealLeads\"\n",
    "\n",
    "# Make your local connection to the database in PostgreSQL\n",
    "conn = psycopg2.connect(\n",
    "    host=\"localhost\",\n",
    "    database=database,\n",
    "    user=\"postgres\",\n",
    "    password=db_password)"
   ]
  },
  {
   "cell_type": "code",
   "execution_count": null,
   "id": "9bc966bc",
   "metadata": {},
   "outputs": [],
   "source": [
    "# Table selection Function\n",
    "def table_select(table_name):\n",
    "    table =f\"select * from \\\"{table_name}\\\"\"\n",
    "    dataFrame = pd.read_sql(table, conn)\n",
    "    return dataFrame"
   ]
  },
  {
   "cell_type": "code",
   "execution_count": null,
   "id": "6c8118ec",
   "metadata": {},
   "outputs": [],
   "source": [
    "# Names of the tables to be imported\n",
    "prop_charac = table_select(\"prop_charac_clean\")\n",
    "pub_rec = table_select(\"pub_rec_clean\")\n",
    "sales_data = table_select(\"sales_data_clean\")"
   ]
  },
  {
   "cell_type": "code",
   "execution_count": null,
   "id": "b0256efc",
   "metadata": {
    "scrolled": false
   },
   "outputs": [],
   "source": [
    "prop_charac.head()"
   ]
  },
  {
   "cell_type": "code",
   "execution_count": null,
   "id": "551bfb2b",
   "metadata": {},
   "outputs": [],
   "source": [
    "prop_charac.info()"
   ]
  },
  {
   "cell_type": "code",
   "execution_count": null,
   "id": "f50e3d9a",
   "metadata": {
    "scrolled": false
   },
   "outputs": [],
   "source": [
    "pub_rec.head()"
   ]
  },
  {
   "cell_type": "code",
   "execution_count": null,
   "id": "60fb9c09",
   "metadata": {},
   "outputs": [],
   "source": [
    "pub_rec.info()"
   ]
  },
  {
   "cell_type": "code",
   "execution_count": null,
   "id": "143ba2c9",
   "metadata": {
    "scrolled": true
   },
   "outputs": [],
   "source": [
    "sales_data.head()"
   ]
  },
  {
   "cell_type": "code",
   "execution_count": null,
   "id": "235f888f",
   "metadata": {},
   "outputs": [],
   "source": [
    "sales_data['FinalFinancing'].value_counts()"
   ]
  },
  {
   "cell_type": "code",
   "execution_count": null,
   "id": "f44e82d6",
   "metadata": {},
   "outputs": [],
   "source": [
    "# Look at NAME value counts for binning\n",
    "loan_counts = sales_data.FinalFinancing.value_counts()\n",
    "#  How many name counts are greater than 5?\n",
    "loan_counts[loan_counts<20]"
   ]
  },
  {
   "cell_type": "code",
   "execution_count": null,
   "id": "84a1b1d1",
   "metadata": {},
   "outputs": [],
   "source": []
  },
  {
   "cell_type": "code",
   "execution_count": null,
   "id": "7af1335a",
   "metadata": {
    "scrolled": false
   },
   "outputs": [],
   "source": [
    "sales_data.info()"
   ]
  },
  {
   "cell_type": "code",
   "execution_count": null,
   "id": "45cfefc7",
   "metadata": {},
   "outputs": [],
   "source": [
    "sales_data['ListDate'].head()"
   ]
  },
  {
   "cell_type": "code",
   "execution_count": null,
   "id": "844b3f6e",
   "metadata": {},
   "outputs": [],
   "source": [
    "sales_data['ListDate'] = pd.to_datetime(sales_data['ListDate'])"
   ]
  },
  {
   "cell_type": "code",
   "execution_count": null,
   "id": "3ba2306d",
   "metadata": {},
   "outputs": [],
   "source": [
    "sales_data.info()"
   ]
  },
  {
   "cell_type": "code",
   "execution_count": null,
   "id": "c8259a4d",
   "metadata": {
    "scrolled": false
   },
   "outputs": [],
   "source": [
    "sales_data['Month'] = pd.DatetimeIndex(sales_data['ListDate']).month"
   ]
  },
  {
   "cell_type": "code",
   "execution_count": null,
   "id": "658a1f89",
   "metadata": {},
   "outputs": [],
   "source": [
    "sales_data['Year'] = pd.DatetimeIndex(sales_data['ListDate']).year"
   ]
  },
  {
   "cell_type": "code",
   "execution_count": null,
   "id": "ed7b72e5",
   "metadata": {},
   "outputs": [],
   "source": [
    "# Drop Rows from prop_charac\n",
    "prop_charac = prop_charac[['MLSNumber',\n",
    "                            'Bedrooms',\n",
    "                            'Baths',\n",
    "                            'Basement_YN',\n",
    "                            'Garage_YN',\n",
    "                            'AboveGradeSqFt',\n",
    "                            'BelowGradeSqFt',\n",
    "                            'Condo/Coop_Assoc_YN',\n",
    "                            'Central_Air_YN',\n",
    "                            'HOA_YN',\n",
    "                            'Age',\n",
    "                          'Ownership',\n",
    "                          'Structure_Type',\n",
    "                          'InteriorSqFt',\n",
    "                          'NumberofStories']]\n",
    "\n",
    "prop_charac"
   ]
  },
  {
   "cell_type": "code",
   "execution_count": null,
   "id": "1cf49e01",
   "metadata": {},
   "outputs": [],
   "source": [
    "# Drop Rows from pub_rec\n",
    "pub_rec = pub_rec[['MLSNumber',\n",
    "                    'Zip_Code',\n",
    "                    'SchoolDistrict',\n",
    "                    'AnnualTax',\n",
    "                    'LotAcres',\n",
    "                    'SubdivisionNeighborhood',\n",
    "                    'Municipality',\n",
    "                      'Lot',\n",
    "                      'OwnerOccupied',\n",
    "                      'TotalLandAsmt',\n",
    "                  'TotalBldgAsmt',\n",
    "                  'PropertyClass',\n",
    "                  'YearBuilt']]\n",
    "\n",
    "pub_rec"
   ]
  },
  {
   "cell_type": "code",
   "execution_count": null,
   "id": "ddccb7fe",
   "metadata": {},
   "outputs": [],
   "source": [
    "# Drop Rows from sales_data\n",
    "\n",
    "sales_data = sales_data[['MLSNumber',\n",
    "                        'Days_on_Market',\n",
    "                        'Orig_List_Price',\n",
    "                         'Month',\n",
    "                         'Year'\n",
    "                        ]]\n",
    "\n",
    "sales_data"
   ]
  },
  {
   "cell_type": "code",
   "execution_count": null,
   "id": "56f874b1",
   "metadata": {},
   "outputs": [],
   "source": [
    "# Merge sales_data and pub_rec dataframes\n",
    "merge_df = pd.merge(sales_data, pub_rec, on='MLSNumber')\n",
    "merge_df"
   ]
  },
  {
   "cell_type": "code",
   "execution_count": null,
   "id": "25e93c44",
   "metadata": {},
   "outputs": [],
   "source": [
    "# Merge merge_df and prop_charac dataframes\n",
    "merge_df = pd.merge(merge_df, prop_charac, on='MLSNumber')\n",
    "merge_df"
   ]
  },
  {
   "cell_type": "code",
   "execution_count": null,
   "id": "3414142c",
   "metadata": {
    "scrolled": false
   },
   "outputs": [],
   "source": [
    "# Info for all columns in new dataframe\n",
    "merge_df.info()"
   ]
  },
  {
   "cell_type": "code",
   "execution_count": null,
   "id": "bb88725d",
   "metadata": {},
   "outputs": [],
   "source": [
    "# Determine the number of unique values in each column.\n",
    "merge_df.nunique()"
   ]
  },
  {
   "cell_type": "code",
   "execution_count": null,
   "id": "08c2ee31",
   "metadata": {},
   "outputs": [],
   "source": [
    "# Find null rows\n",
    "merge_df.isna().sum()"
   ]
  },
  {
   "cell_type": "code",
   "execution_count": null,
   "id": "84ce9f4c",
   "metadata": {
    "scrolled": false
   },
   "outputs": [],
   "source": [
    "# Drop rows with null values\n",
    "merge_df = merge_df.dropna()\n",
    "merge_df"
   ]
  },
  {
   "cell_type": "code",
   "execution_count": null,
   "id": "e759f279",
   "metadata": {},
   "outputs": [],
   "source": [
    "# Find max days on market\n",
    "merge_df['Days_on_Market'].max()"
   ]
  },
  {
   "cell_type": "code",
   "execution_count": null,
   "id": "e65f09f1",
   "metadata": {
    "scrolled": false
   },
   "outputs": [],
   "source": [
    "# Check binning\n",
    "pd.cut(merge_df['Days_on_Market'], bins=8).value_counts()"
   ]
  },
  {
   "cell_type": "code",
   "execution_count": null,
   "id": "9ba3ab7b",
   "metadata": {},
   "outputs": [],
   "source": [
    "# Drop rows with condition over 120 days on market\n",
    "merge_df.drop(merge_df[merge_df['Days_on_Market'] >= 120].index, inplace = True)"
   ]
  },
  {
   "cell_type": "code",
   "execution_count": null,
   "id": "3eef1a84",
   "metadata": {},
   "outputs": [],
   "source": [
    "clean_df = merge_df.copy()"
   ]
  },
  {
   "cell_type": "code",
   "execution_count": null,
   "id": "c04b2ee5",
   "metadata": {
    "scrolled": false
   },
   "outputs": [],
   "source": [
    "# Cut data\n",
    "cut_labels = ['Less than 2 months', 'More than 2 months']\n",
    "cut_bins = [0, 60,120]\n",
    "clean_df['DaysOnMarket_Buckets'] = pd.cut(clean_df['Days_on_Market'], bins=cut_bins, labels=cut_labels)\n",
    "clean_df"
   ]
  },
  {
   "cell_type": "code",
   "execution_count": null,
   "id": "1a84e7b9",
   "metadata": {},
   "outputs": [],
   "source": [
    "# Change index to MLSNumber\n",
    "clean_df = clean_df.set_index('MLSNumber')\n",
    "clean_df"
   ]
  },
  {
   "cell_type": "code",
   "execution_count": null,
   "id": "7842b3e1",
   "metadata": {},
   "outputs": [],
   "source": [
    "# Change object columns to category\n",
    "for label, content in clean_df.items():\n",
    "    if pd.api.types.is_string_dtype(content):\n",
    "        clean_df[label] = content.astype(\"category\").cat.as_ordered()\n",
    "        \n",
    "clean_df.info()"
   ]
  },
  {
   "cell_type": "code",
   "execution_count": null,
   "id": "9bf3c837",
   "metadata": {},
   "outputs": [],
   "source": [
    "clean_df.head()"
   ]
  },
  {
   "cell_type": "code",
   "execution_count": null,
   "id": "50940cc9",
   "metadata": {},
   "outputs": [],
   "source": [
    "# Change categories to numbers\n",
    "for label,content in clean_df.items():\n",
    "    if not pd.api.types.is_numeric_dtype(content):\n",
    "        clean_df[label] = pd.Categorical(content).codes+1"
   ]
  },
  {
   "cell_type": "code",
   "execution_count": null,
   "id": "bf2760e6",
   "metadata": {
    "scrolled": true
   },
   "outputs": [],
   "source": [
    "clean_df.head()"
   ]
  },
  {
   "cell_type": "code",
   "execution_count": null,
   "id": "75302489",
   "metadata": {
    "scrolled": true
   },
   "outputs": [],
   "source": [
    "# Drop rows with null values\n",
    "clean_df = clean_df.dropna()\n",
    "clean_df"
   ]
  },
  {
   "cell_type": "code",
   "execution_count": null,
   "id": "dbc312d4",
   "metadata": {},
   "outputs": [],
   "source": [
    "clean_df.columns"
   ]
  },
  {
   "cell_type": "code",
   "execution_count": null,
   "id": "4a32ae0c",
   "metadata": {},
   "outputs": [],
   "source": [
    "import seaborn as sns\n",
    "\n",
    "corr = clean_df.corr()\n",
    "ax = sns.heatmap(\n",
    "    corr, \n",
    "    vmin=-1, vmax=1, center=0,\n",
    "    cmap=sns.diverging_palette(20, 220, n=200),\n",
    "    square=True\n",
    ")\n",
    "ax.set_xticklabels(\n",
    "    ax.get_xticklabels(),\n",
    "    rotation=45,\n",
    "    horizontalalignment='right'\n",
    ");"
   ]
  },
  {
   "cell_type": "markdown",
   "id": "c2a713b0",
   "metadata": {},
   "source": [
    "### Balanced Random Forest Classifier"
   ]
  },
  {
   "cell_type": "code",
   "execution_count": null,
   "id": "095c7a4f",
   "metadata": {},
   "outputs": [],
   "source": [
    "y = clean_df[\"DaysOnMarket_Buckets\"]\n",
    "X = clean_df.drop(columns=[\"Days_on_Market\", \"DaysOnMarket_Buckets\"])"
   ]
  },
  {
   "cell_type": "code",
   "execution_count": null,
   "id": "1fa51a00",
   "metadata": {},
   "outputs": [],
   "source": [
    "from sklearn.model_selection import train_test_split\n",
    "\n",
    "X_train, X_test, y_train, y_test = train_test_split(X, y)\n",
    "X_train.shape"
   ]
  },
  {
   "cell_type": "code",
   "execution_count": null,
   "id": "5c720d5f",
   "metadata": {},
   "outputs": [],
   "source": [
    "# Resample the training data with the BalancedRandomForestClassifier\n",
    "from imblearn.ensemble import BalancedRandomForestClassifier\n",
    "brf = BalancedRandomForestClassifier(n_estimators=1000, random_state=20)\n",
    "brf.fit(X_train, y_train)"
   ]
  },
  {
   "cell_type": "code",
   "execution_count": null,
   "id": "25324e72",
   "metadata": {},
   "outputs": [],
   "source": [
    "# Calculated the balanced accuracy score\n",
    "y_pred = brf.predict(X_test)\n",
    "balanced_accuracy_score(y_test, y_pred)"
   ]
  },
  {
   "cell_type": "code",
   "execution_count": null,
   "id": "979f65d4",
   "metadata": {
    "scrolled": true
   },
   "outputs": [],
   "source": [
    "# List the features sorted in descending order by feature importance\n",
    "sorted(zip(brf.feature_importances_, X.columns), reverse=True)"
   ]
  },
  {
   "cell_type": "code",
   "execution_count": null,
   "id": "37f1af05",
   "metadata": {},
   "outputs": [],
   "source": [
    "# Drop columns from clean_df\n",
    "updated_df = clean_df.drop(columns=[\"PropertyClass\", \"Condo/Coop_Assoc_YN\", \"Ownership\", \"OwnerOccupied\", \"HOA_YN\", \"Basement_YN\", \"Central_Air_YN\"])\n",
    "updated_df"
   ]
  },
  {
   "cell_type": "code",
   "execution_count": null,
   "id": "a2b5c960",
   "metadata": {},
   "outputs": [],
   "source": [
    "y = updated_df[\"DaysOnMarket_Buckets\"]\n",
    "X = updated_df.drop(columns=[\"Days_on_Market\", \"DaysOnMarket_Buckets\"])"
   ]
  },
  {
   "cell_type": "code",
   "execution_count": null,
   "id": "9dfbaba9",
   "metadata": {},
   "outputs": [],
   "source": [
    "from sklearn.model_selection import train_test_split\n",
    "\n",
    "X_train, X_test, y_train, y_test = train_test_split(X, y)\n",
    "X_train.shape"
   ]
  },
  {
   "cell_type": "code",
   "execution_count": null,
   "id": "388d3b2e",
   "metadata": {},
   "outputs": [],
   "source": [
    "# Resample the training data with the BalancedRandomForestClassifier\n",
    "from imblearn.ensemble import BalancedRandomForestClassifier\n",
    "brf = BalancedRandomForestClassifier(n_estimators=1000, random_state=20)\n",
    "brf.fit(X_train, y_train)"
   ]
  },
  {
   "cell_type": "code",
   "execution_count": null,
   "id": "0a3de735",
   "metadata": {
    "scrolled": true
   },
   "outputs": [],
   "source": [
    "# Calculated the balanced accuracy score\n",
    "y_pred = brf.predict(X_test)\n",
    "balanced_accuracy_score(y_test, y_pred)"
   ]
  },
  {
   "cell_type": "code",
   "execution_count": null,
   "id": "7dbbb183",
   "metadata": {
    "scrolled": false
   },
   "outputs": [],
   "source": [
    "# List the features sorted in descending order by feature importance\n",
    "sorted(zip(brf.feature_importances_, X.columns), reverse=True)"
   ]
  },
  {
   "cell_type": "code",
   "execution_count": null,
   "id": "373e49da",
   "metadata": {},
   "outputs": [],
   "source": [
    "updated_df.info()"
   ]
  },
  {
   "cell_type": "code",
   "execution_count": null,
   "id": "532700c3",
   "metadata": {},
   "outputs": [],
   "source": [
    "# Drop columns from clean_df\n",
    "updated_df2 = updated_df.drop(columns=[\"Garage_YN\", \"Structure_Type\", \"Lot\", \"Baths\", \"SchoolDistrict\", \"Bedrooms\", \"BelowGradeSqFt\", \"Municipality\", \"YearBuilt\", \"Zip_Code\"])\n",
    "updated_df2"
   ]
  },
  {
   "cell_type": "code",
   "execution_count": null,
   "id": "26513738",
   "metadata": {},
   "outputs": [],
   "source": [
    "y = updated_df2[\"DaysOnMarket_Buckets\"]\n",
    "X = updated_df2.drop(columns=[\"Days_on_Market\", \"DaysOnMarket_Buckets\"])"
   ]
  },
  {
   "cell_type": "code",
   "execution_count": null,
   "id": "661021bb",
   "metadata": {},
   "outputs": [],
   "source": [
    "from sklearn.model_selection import train_test_split\n",
    "\n",
    "X_train, X_test, y_train, y_test = train_test_split(X, y)\n",
    "X_train.shape"
   ]
  },
  {
   "cell_type": "code",
   "execution_count": null,
   "id": "c6443541",
   "metadata": {},
   "outputs": [],
   "source": [
    "# Resample the training data with the BalancedRandomForestClassifier\n",
    "from imblearn.ensemble import BalancedRandomForestClassifier\n",
    "brf = BalancedRandomForestClassifier(n_estimators=1000, random_state=20)\n",
    "brf.fit(X_train, y_train)"
   ]
  },
  {
   "cell_type": "code",
   "execution_count": null,
   "id": "8edef8d6",
   "metadata": {},
   "outputs": [],
   "source": [
    "# Calculated the balanced accuracy score\n",
    "y_pred = brf.predict(X_test)\n",
    "balanced_accuracy_score(y_test, y_pred)"
   ]
  },
  {
   "cell_type": "code",
   "execution_count": null,
   "id": "6687cb3e",
   "metadata": {
    "scrolled": false
   },
   "outputs": [],
   "source": [
    "# List the features sorted in descending order by feature importance\n",
    "sorted(zip(brf.feature_importances_, X.columns), reverse=True)"
   ]
  },
  {
   "cell_type": "code",
   "execution_count": null,
   "id": "55beca26",
   "metadata": {},
   "outputs": [],
   "source": [
    "# Display the confusion matrix\n",
    "from sklearn.metrics import confusion_matrix\n",
    "confusion_matrix(y_test, y_pred)"
   ]
  },
  {
   "cell_type": "markdown",
   "id": "0273837f",
   "metadata": {},
   "source": [
    "### EasyEnsembleClassifier"
   ]
  },
  {
   "cell_type": "code",
   "execution_count": null,
   "id": "2b9ae95b",
   "metadata": {},
   "outputs": [],
   "source": [
    "y = clean_df[\"DaysOnMarket_Buckets\"]\n",
    "X = clean_df.drop(columns=[\"Days_on_Market\", \"DaysOnMarket_Buckets\"])"
   ]
  },
  {
   "cell_type": "code",
   "execution_count": null,
   "id": "e60c5a09",
   "metadata": {},
   "outputs": [],
   "source": [
    "# Train the EasyEnsembleClassifier\n",
    "from imblearn.ensemble import EasyEnsembleClassifier\n",
    "eec = EasyEnsembleClassifier(n_jobs=-1, random_state=100)\n",
    "eec.fit(X_train, y_train)"
   ]
  },
  {
   "cell_type": "code",
   "execution_count": null,
   "id": "0a08bacd",
   "metadata": {
    "scrolled": true
   },
   "outputs": [],
   "source": [
    "# Calculated the balanced accuracy score\n",
    "y_pred = eec.predict(X_test)\n",
    "balanced_accuracy_score(y_test, y_pred)"
   ]
  },
  {
   "cell_type": "code",
   "execution_count": null,
   "id": "9b9230a6",
   "metadata": {},
   "outputs": [],
   "source": [
    "# Drop columns from clean_df\n",
    "updated_df = clean_df.drop(columns=[\"PropertyClass\", \"Condo/Coop_Assoc_YN\", \"Ownership\", \"Basement_YN\"])\n",
    "updated_df"
   ]
  },
  {
   "cell_type": "code",
   "execution_count": null,
   "id": "aff3e977",
   "metadata": {},
   "outputs": [],
   "source": [
    "y = updated_df[\"DaysOnMarket_Buckets\"]\n",
    "X = updated_df.drop(columns=[\"Days_on_Market\", \"DaysOnMarket_Buckets\"])"
   ]
  },
  {
   "cell_type": "code",
   "execution_count": null,
   "id": "2c960ec2",
   "metadata": {},
   "outputs": [],
   "source": [
    "from sklearn.model_selection import train_test_split\n",
    "\n",
    "X_train, X_test, y_train, y_test = train_test_split(X, y)\n",
    "X_train.shape"
   ]
  },
  {
   "cell_type": "code",
   "execution_count": null,
   "id": "cd45a564",
   "metadata": {},
   "outputs": [],
   "source": [
    "# Train the EasyEnsembleClassifier\n",
    "from imblearn.ensemble import EasyEnsembleClassifier\n",
    "eec = EasyEnsembleClassifier(n_jobs=-1, random_state=50)\n",
    "eec.fit(X_train, y_train)"
   ]
  },
  {
   "cell_type": "code",
   "execution_count": null,
   "id": "e7c19bbd",
   "metadata": {
    "scrolled": true
   },
   "outputs": [],
   "source": [
    "# Calculated the balanced accuracy score\n",
    "y_pred = eec.predict(X_test)\n",
    "balanced_accuracy_score(y_test, y_pred)"
   ]
  }
 ],
 "metadata": {
  "kernelspec": {
   "display_name": "mlenv",
   "language": "python",
   "name": "mlenv"
  },
  "language_info": {
   "codemirror_mode": {
    "name": "ipython",
    "version": 3
   },
   "file_extension": ".py",
   "mimetype": "text/x-python",
   "name": "python",
   "nbconvert_exporter": "python",
   "pygments_lexer": "ipython3",
   "version": "3.7.15"
  }
 },
 "nbformat": 4,
 "nbformat_minor": 5
}
