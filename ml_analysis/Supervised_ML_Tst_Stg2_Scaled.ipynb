{
 "cells": [
  {
   "cell_type": "code",
   "execution_count": 1,
   "id": "97936520",
   "metadata": {},
   "outputs": [],
   "source": [
    "#TODO POSSIBLE : Make A Zipcode Dictionary that refers to their code"
   ]
  },
  {
   "cell_type": "code",
   "execution_count": 2,
   "id": "905be87c",
   "metadata": {},
   "outputs": [],
   "source": [
    "import numpy as np\n",
    "import pandas as pd\n",
    "import matplotlib.pyplot as plt\n",
    "import psycopg2\n",
    "import pickle\n",
    "from sklearn.preprocessing import StandardScaler"
   ]
  },
  {
   "cell_type": "code",
   "execution_count": 3,
   "id": "5660b0f0",
   "metadata": {},
   "outputs": [],
   "source": [
    "from config import db_password"
   ]
  },
  {
   "cell_type": "code",
   "execution_count": 4,
   "id": "56e03bbd",
   "metadata": {},
   "outputs": [],
   "source": [
    "# Name the SQL database your are accessing\n",
    "database = \"RealLeads\""
   ]
  },
  {
   "cell_type": "code",
   "execution_count": 5,
   "id": "62eb4729",
   "metadata": {},
   "outputs": [],
   "source": [
    "# Make your local connection to the database in PostgreSQL\n",
    "conn = psycopg2.connect(\n",
    "    host=\"localhost\",\n",
    "    database=database,\n",
    "    user=\"postgres\",\n",
    "    password=db_password)"
   ]
  },
  {
   "cell_type": "code",
   "execution_count": 6,
   "id": "1327c9d6",
   "metadata": {},
   "outputs": [],
   "source": [
    "# Table selection Function\n",
    "def table_select(table_name):\n",
    "    table =f\"select * from \\\"{table_name}\\\"\"\n",
    "    dataFrame = pd.read_sql(table, conn)\n",
    "    return dataFrame"
   ]
  },
  {
   "cell_type": "code",
   "execution_count": 7,
   "id": "62197f04",
   "metadata": {},
   "outputs": [],
   "source": [
    "# Names of the tables to be imported\n",
    "id_table_df = table_select(\"id_table\")\n",
    "broker_df = table_select(\"broker_data_clean\")\n",
    "lat_lng_df = table_select(\"lat_lng_clean\")\n",
    "mortgage_df = table_select(\"mortgage_data_clean\")\n",
    "property_char_df = table_select(\"prop_charac_clean\")\n",
    "#public_rec_df = table_select(\"pub_rec_clean\")\n",
    "sales_data_df = table_select(\"sales_data_clean\")"
   ]
  },
  {
   "cell_type": "code",
   "execution_count": 8,
   "id": "11f325e8",
   "metadata": {},
   "outputs": [],
   "source": [
    "public_rec_df = pd.read_csv(\"../Resources/Clean_Data_12_8_22/Pub_Rec_clean.csv\")\n"
   ]
  },
  {
   "cell_type": "code",
   "execution_count": 9,
   "id": "c3587e4f",
   "metadata": {},
   "outputs": [],
   "source": [
    "ml_Temp = pd.read_csv(\"../Resources/ml_Data_Cleaned_Supervised_Learning.csv\")"
   ]
  },
  {
   "cell_type": "code",
   "execution_count": 10,
   "id": "d90fea95",
   "metadata": {},
   "outputs": [],
   "source": [
    "ml_df = pd.read_csv(\"../Resources/ml_DataFrame_No_NAN.csv\")"
   ]
  },
  {
   "cell_type": "code",
   "execution_count": 11,
   "id": "f0b6d87f",
   "metadata": {},
   "outputs": [
    {
     "data": {
      "text/html": [
       "<div>\n",
       "<style scoped>\n",
       "    .dataframe tbody tr th:only-of-type {\n",
       "        vertical-align: middle;\n",
       "    }\n",
       "\n",
       "    .dataframe tbody tr th {\n",
       "        vertical-align: top;\n",
       "    }\n",
       "\n",
       "    .dataframe thead th {\n",
       "        text-align: right;\n",
       "    }\n",
       "</style>\n",
       "<table border=\"1\" class=\"dataframe\">\n",
       "  <thead>\n",
       "    <tr style=\"text-align: right;\">\n",
       "      <th></th>\n",
       "      <th>Orig_List_Price</th>\n",
       "      <th>Zip_Code</th>\n",
       "      <th>Subdivision</th>\n",
       "      <th>School_District</th>\n",
       "      <th>HOA_YN</th>\n",
       "      <th>Structure_Type</th>\n",
       "      <th>Acres</th>\n",
       "      <th>InteriorSqFt</th>\n",
       "      <th>AboveGradeSqFt</th>\n",
       "      <th>BelowGradeSqFt</th>\n",
       "      <th>Bedrooms</th>\n",
       "      <th>Baths</th>\n",
       "      <th>NumberofStories</th>\n",
       "      <th>Central_Air_YN</th>\n",
       "      <th>Water</th>\n",
       "      <th>Basement_YN</th>\n",
       "      <th>Garage_YN</th>\n",
       "      <th>ExteriorMaterial</th>\n",
       "      <th>YearBuilt</th>\n",
       "    </tr>\n",
       "  </thead>\n",
       "  <tbody>\n",
       "    <tr>\n",
       "      <th>0</th>\n",
       "      <td>330000.0</td>\n",
       "      <td>13</td>\n",
       "      <td>461</td>\n",
       "      <td>4</td>\n",
       "      <td>2</td>\n",
       "      <td>1</td>\n",
       "      <td>0.26</td>\n",
       "      <td>2099.0</td>\n",
       "      <td>2099.0</td>\n",
       "      <td>0.0</td>\n",
       "      <td>4.0</td>\n",
       "      <td>2.0</td>\n",
       "      <td>27</td>\n",
       "      <td>2</td>\n",
       "      <td>12</td>\n",
       "      <td>2</td>\n",
       "      <td>2</td>\n",
       "      <td>205</td>\n",
       "      <td>87</td>\n",
       "    </tr>\n",
       "    <tr>\n",
       "      <th>1</th>\n",
       "      <td>215500.0</td>\n",
       "      <td>13</td>\n",
       "      <td>399</td>\n",
       "      <td>4</td>\n",
       "      <td>1</td>\n",
       "      <td>3</td>\n",
       "      <td>0.06</td>\n",
       "      <td>1927.0</td>\n",
       "      <td>1575.0</td>\n",
       "      <td>352.0</td>\n",
       "      <td>3.0</td>\n",
       "      <td>2.0</td>\n",
       "      <td>27</td>\n",
       "      <td>2</td>\n",
       "      <td>12</td>\n",
       "      <td>2</td>\n",
       "      <td>1</td>\n",
       "      <td>43</td>\n",
       "      <td>105</td>\n",
       "    </tr>\n",
       "    <tr>\n",
       "      <th>2</th>\n",
       "      <td>200000.0</td>\n",
       "      <td>13</td>\n",
       "      <td>618</td>\n",
       "      <td>4</td>\n",
       "      <td>1</td>\n",
       "      <td>3</td>\n",
       "      <td>0.05</td>\n",
       "      <td>1150.0</td>\n",
       "      <td>1150.0</td>\n",
       "      <td>0.0</td>\n",
       "      <td>2.0</td>\n",
       "      <td>2.0</td>\n",
       "      <td>27</td>\n",
       "      <td>2</td>\n",
       "      <td>12</td>\n",
       "      <td>2</td>\n",
       "      <td>1</td>\n",
       "      <td>291</td>\n",
       "      <td>114</td>\n",
       "    </tr>\n",
       "    <tr>\n",
       "      <th>3</th>\n",
       "      <td>219900.0</td>\n",
       "      <td>13</td>\n",
       "      <td>190</td>\n",
       "      <td>4</td>\n",
       "      <td>2</td>\n",
       "      <td>3</td>\n",
       "      <td>0.05</td>\n",
       "      <td>1425.0</td>\n",
       "      <td>1425.0</td>\n",
       "      <td>0.0</td>\n",
       "      <td>2.0</td>\n",
       "      <td>3.0</td>\n",
       "      <td>27</td>\n",
       "      <td>2</td>\n",
       "      <td>12</td>\n",
       "      <td>2</td>\n",
       "      <td>2</td>\n",
       "      <td>270</td>\n",
       "      <td>114</td>\n",
       "    </tr>\n",
       "    <tr>\n",
       "      <th>4</th>\n",
       "      <td>195000.0</td>\n",
       "      <td>13</td>\n",
       "      <td>546</td>\n",
       "      <td>4</td>\n",
       "      <td>1</td>\n",
       "      <td>1</td>\n",
       "      <td>0.14</td>\n",
       "      <td>0.0</td>\n",
       "      <td>0.0</td>\n",
       "      <td>0.0</td>\n",
       "      <td>4.0</td>\n",
       "      <td>3.0</td>\n",
       "      <td>12</td>\n",
       "      <td>1</td>\n",
       "      <td>12</td>\n",
       "      <td>2</td>\n",
       "      <td>2</td>\n",
       "      <td>237</td>\n",
       "      <td>83</td>\n",
       "    </tr>\n",
       "  </tbody>\n",
       "</table>\n",
       "</div>"
      ],
      "text/plain": [
       "   Orig_List_Price  Zip_Code  Subdivision  School_District  HOA_YN  \\\n",
       "0         330000.0        13          461                4       2   \n",
       "1         215500.0        13          399                4       1   \n",
       "2         200000.0        13          618                4       1   \n",
       "3         219900.0        13          190                4       2   \n",
       "4         195000.0        13          546                4       1   \n",
       "\n",
       "   Structure_Type  Acres  InteriorSqFt  AboveGradeSqFt  BelowGradeSqFt  \\\n",
       "0               1   0.26        2099.0          2099.0             0.0   \n",
       "1               3   0.06        1927.0          1575.0           352.0   \n",
       "2               3   0.05        1150.0          1150.0             0.0   \n",
       "3               3   0.05        1425.0          1425.0             0.0   \n",
       "4               1   0.14           0.0             0.0             0.0   \n",
       "\n",
       "   Bedrooms  Baths  NumberofStories  Central_Air_YN  Water  Basement_YN  \\\n",
       "0       4.0    2.0               27               2     12            2   \n",
       "1       3.0    2.0               27               2     12            2   \n",
       "2       2.0    2.0               27               2     12            2   \n",
       "3       2.0    3.0               27               2     12            2   \n",
       "4       4.0    3.0               12               1     12            2   \n",
       "\n",
       "   Garage_YN  ExteriorMaterial  YearBuilt  \n",
       "0          2               205         87  \n",
       "1          1                43        105  \n",
       "2          1               291        114  \n",
       "3          2               270        114  \n",
       "4          2               237         83  "
      ]
     },
     "execution_count": 11,
     "metadata": {},
     "output_type": "execute_result"
    }
   ],
   "source": [
    "ml_Temp.head()"
   ]
  },
  {
   "cell_type": "code",
   "execution_count": 12,
   "id": "265c9ffb",
   "metadata": {},
   "outputs": [
    {
     "data": {
      "text/html": [
       "<div>\n",
       "<style scoped>\n",
       "    .dataframe tbody tr th:only-of-type {\n",
       "        vertical-align: middle;\n",
       "    }\n",
       "\n",
       "    .dataframe tbody tr th {\n",
       "        vertical-align: top;\n",
       "    }\n",
       "\n",
       "    .dataframe thead th {\n",
       "        text-align: right;\n",
       "    }\n",
       "</style>\n",
       "<table border=\"1\" class=\"dataframe\">\n",
       "  <thead>\n",
       "    <tr style=\"text-align: right;\">\n",
       "      <th></th>\n",
       "      <th>MLSNumber</th>\n",
       "      <th>Orig_List_Price</th>\n",
       "      <th>Zip_Code</th>\n",
       "      <th>Subdivision</th>\n",
       "      <th>School_District</th>\n",
       "      <th>HOA_YN</th>\n",
       "      <th>Structure_Type</th>\n",
       "      <th>Acres</th>\n",
       "      <th>InteriorSqFt</th>\n",
       "      <th>AboveGradeSqFt</th>\n",
       "      <th>BelowGradeSqFt</th>\n",
       "      <th>Bedrooms</th>\n",
       "      <th>Baths</th>\n",
       "      <th>NumberofStories</th>\n",
       "      <th>Central_Air_YN</th>\n",
       "      <th>Water</th>\n",
       "      <th>Basement_YN</th>\n",
       "      <th>Garage_YN</th>\n",
       "      <th>ExteriorMaterial</th>\n",
       "      <th>YearBuilt</th>\n",
       "    </tr>\n",
       "  </thead>\n",
       "  <tbody>\n",
       "    <tr>\n",
       "      <th>0</th>\n",
       "      <td>DENC518086</td>\n",
       "      <td>330000.0</td>\n",
       "      <td>19808</td>\n",
       "      <td>SHERWOOD PARK II</td>\n",
       "      <td>Red Clay Consolidated</td>\n",
       "      <td>Yes</td>\n",
       "      <td>Detached</td>\n",
       "      <td>0.26</td>\n",
       "      <td>2099.0</td>\n",
       "      <td>2099.0</td>\n",
       "      <td>0.0</td>\n",
       "      <td>4.0</td>\n",
       "      <td>2.0</td>\n",
       "      <td>Main,Upper1</td>\n",
       "      <td>Yes</td>\n",
       "      <td>Public</td>\n",
       "      <td>Yes</td>\n",
       "      <td>Yes</td>\n",
       "      <td>BrickFront,VinylSiding</td>\n",
       "      <td>1958</td>\n",
       "    </tr>\n",
       "    <tr>\n",
       "      <th>1</th>\n",
       "      <td>DENC518982</td>\n",
       "      <td>215500.0</td>\n",
       "      <td>19808</td>\n",
       "      <td>PEPPER RIDGE</td>\n",
       "      <td>Red Clay Consolidated</td>\n",
       "      <td>No</td>\n",
       "      <td>Interior Row/Townhouse</td>\n",
       "      <td>0.06</td>\n",
       "      <td>1927.0</td>\n",
       "      <td>1575.0</td>\n",
       "      <td>352.0</td>\n",
       "      <td>3.0</td>\n",
       "      <td>2.0</td>\n",
       "      <td>Main,Upper1</td>\n",
       "      <td>Yes</td>\n",
       "      <td>Public</td>\n",
       "      <td>Yes</td>\n",
       "      <td>No</td>\n",
       "      <td>AluminumSiding,Brick,VinylSiding</td>\n",
       "      <td>1976</td>\n",
       "    </tr>\n",
       "    <tr>\n",
       "      <th>2</th>\n",
       "      <td>DENC512992</td>\n",
       "      <td>200000.0</td>\n",
       "      <td>19808</td>\n",
       "      <td>WOODMILL</td>\n",
       "      <td>Red Clay Consolidated</td>\n",
       "      <td>No</td>\n",
       "      <td>Interior Row/Townhouse</td>\n",
       "      <td>0.05</td>\n",
       "      <td>1150.0</td>\n",
       "      <td>1150.0</td>\n",
       "      <td>0.0</td>\n",
       "      <td>2.0</td>\n",
       "      <td>2.0</td>\n",
       "      <td>Main,Upper1</td>\n",
       "      <td>Yes</td>\n",
       "      <td>Public</td>\n",
       "      <td>Yes</td>\n",
       "      <td>No</td>\n",
       "      <td>VinylSiding</td>\n",
       "      <td>1985</td>\n",
       "    </tr>\n",
       "    <tr>\n",
       "      <th>3</th>\n",
       "      <td>DENC512104</td>\n",
       "      <td>219900.0</td>\n",
       "      <td>19808</td>\n",
       "      <td>FAIRWAY FALLS</td>\n",
       "      <td>Red Clay Consolidated</td>\n",
       "      <td>Yes</td>\n",
       "      <td>Interior Row/Townhouse</td>\n",
       "      <td>0.05</td>\n",
       "      <td>1425.0</td>\n",
       "      <td>1425.0</td>\n",
       "      <td>0.0</td>\n",
       "      <td>2.0</td>\n",
       "      <td>3.0</td>\n",
       "      <td>Main,Upper1</td>\n",
       "      <td>Yes</td>\n",
       "      <td>Public</td>\n",
       "      <td>Yes</td>\n",
       "      <td>Yes</td>\n",
       "      <td>Other</td>\n",
       "      <td>1985</td>\n",
       "    </tr>\n",
       "    <tr>\n",
       "      <th>4</th>\n",
       "      <td>DENC506356</td>\n",
       "      <td>195000.0</td>\n",
       "      <td>19808</td>\n",
       "      <td>WASHINGTON HEIGHTS</td>\n",
       "      <td>Red Clay Consolidated</td>\n",
       "      <td>No</td>\n",
       "      <td>Detached</td>\n",
       "      <td>0.14</td>\n",
       "      <td>0.0</td>\n",
       "      <td>0.0</td>\n",
       "      <td>0.0</td>\n",
       "      <td>4.0</td>\n",
       "      <td>3.0</td>\n",
       "      <td>Lower1,Main,Upper1</td>\n",
       "      <td>No</td>\n",
       "      <td>Public</td>\n",
       "      <td>Yes</td>\n",
       "      <td>Yes</td>\n",
       "      <td>Concrete,Stucco</td>\n",
       "      <td>1954</td>\n",
       "    </tr>\n",
       "  </tbody>\n",
       "</table>\n",
       "</div>"
      ],
      "text/plain": [
       "    MLSNumber  Orig_List_Price  Zip_Code         Subdivision  \\\n",
       "0  DENC518086         330000.0     19808    SHERWOOD PARK II   \n",
       "1  DENC518982         215500.0     19808        PEPPER RIDGE   \n",
       "2  DENC512992         200000.0     19808            WOODMILL   \n",
       "3  DENC512104         219900.0     19808       FAIRWAY FALLS   \n",
       "4  DENC506356         195000.0     19808  WASHINGTON HEIGHTS   \n",
       "\n",
       "         School_District HOA_YN          Structure_Type  Acres  InteriorSqFt  \\\n",
       "0  Red Clay Consolidated    Yes                Detached   0.26        2099.0   \n",
       "1  Red Clay Consolidated     No  Interior Row/Townhouse   0.06        1927.0   \n",
       "2  Red Clay Consolidated     No  Interior Row/Townhouse   0.05        1150.0   \n",
       "3  Red Clay Consolidated    Yes  Interior Row/Townhouse   0.05        1425.0   \n",
       "4  Red Clay Consolidated     No                Detached   0.14           0.0   \n",
       "\n",
       "   AboveGradeSqFt  BelowGradeSqFt  Bedrooms  Baths     NumberofStories  \\\n",
       "0          2099.0             0.0       4.0    2.0         Main,Upper1   \n",
       "1          1575.0           352.0       3.0    2.0         Main,Upper1   \n",
       "2          1150.0             0.0       2.0    2.0         Main,Upper1   \n",
       "3          1425.0             0.0       2.0    3.0         Main,Upper1   \n",
       "4             0.0             0.0       4.0    3.0  Lower1,Main,Upper1   \n",
       "\n",
       "  Central_Air_YN   Water Basement_YN Garage_YN  \\\n",
       "0            Yes  Public         Yes       Yes   \n",
       "1            Yes  Public         Yes        No   \n",
       "2            Yes  Public         Yes        No   \n",
       "3            Yes  Public         Yes       Yes   \n",
       "4             No  Public         Yes       Yes   \n",
       "\n",
       "                   ExteriorMaterial  YearBuilt  \n",
       "0            BrickFront,VinylSiding       1958  \n",
       "1  AluminumSiding,Brick,VinylSiding       1976  \n",
       "2                       VinylSiding       1985  \n",
       "3                             Other       1985  \n",
       "4                   Concrete,Stucco       1954  "
      ]
     },
     "execution_count": 12,
     "metadata": {},
     "output_type": "execute_result"
    }
   ],
   "source": [
    "ml_df.head()"
   ]
  },
  {
   "cell_type": "code",
   "execution_count": 13,
   "id": "57e4acc7",
   "metadata": {},
   "outputs": [
    {
     "data": {
      "text/plain": [
       "Index(['MLSNumber', 'Orig_List_Price', 'Zip_Code', 'Subdivision',\n",
       "       'School_District', 'HOA_YN', 'Structure_Type', 'Acres', 'InteriorSqFt',\n",
       "       'AboveGradeSqFt', 'BelowGradeSqFt', 'Bedrooms', 'Baths',\n",
       "       'NumberofStories', 'Central_Air_YN', 'Water', 'Basement_YN',\n",
       "       'Garage_YN', 'ExteriorMaterial', 'YearBuilt'],\n",
       "      dtype='object')"
      ]
     },
     "execution_count": 13,
     "metadata": {},
     "output_type": "execute_result"
    }
   ],
   "source": [
    "ml_df.columns"
   ]
  },
  {
   "cell_type": "code",
   "execution_count": 14,
   "id": "bc310bf4",
   "metadata": {},
   "outputs": [
    {
     "data": {
      "text/plain": [
       "Index(['Orig_List_Price', 'Zip_Code', 'Subdivision', 'School_District',\n",
       "       'HOA_YN', 'Structure_Type', 'Acres', 'InteriorSqFt', 'AboveGradeSqFt',\n",
       "       'BelowGradeSqFt', 'Bedrooms', 'Baths', 'NumberofStories',\n",
       "       'Central_Air_YN', 'Water', 'Basement_YN', 'Garage_YN',\n",
       "       'ExteriorMaterial', 'YearBuilt'],\n",
       "      dtype='object')"
      ]
     },
     "execution_count": 14,
     "metadata": {},
     "output_type": "execute_result"
    }
   ],
   "source": [
    "ml_Temp.columns"
   ]
  },
  {
   "cell_type": "code",
   "execution_count": 15,
   "id": "0910b982",
   "metadata": {},
   "outputs": [
    {
     "data": {
      "text/plain": [
       "dict_items([(19808, 13), (19807, 12), (19806, 11), (19805, 10), (19804, 9), (19803, 8), (19802, 7), (19801, 6), (19720, 3), (19736, 5), (19732, 4), (19711, 2), (19707, 1)])"
      ]
     },
     "execution_count": 15,
     "metadata": {},
     "output_type": "execute_result"
    }
   ],
   "source": [
    "zipcode_dict = dict(zip(ml_df.Zip_Code, ml_Temp.Zip_Code))\n",
    "zipcode_dict.items()"
   ]
  },
  {
   "cell_type": "code",
   "execution_count": 16,
   "id": "9e7bd6b6",
   "metadata": {},
   "outputs": [],
   "source": [
    "#Test Loading a machine learning model"
   ]
  },
  {
   "cell_type": "code",
   "execution_count": 17,
   "id": "c6e22fa5",
   "metadata": {},
   "outputs": [],
   "source": [
    "filename = 'RandomForestRegressor_model.sav'\n",
    "loaded_model = pickle.load(open(filename, 'rb'))\n",
    "res = loaded_model.predict(ml_Temp.drop(columns=\"Orig_List_Price\"))"
   ]
  },
  {
   "cell_type": "code",
   "execution_count": 18,
   "id": "8b505043",
   "metadata": {},
   "outputs": [
    {
     "data": {
      "text/plain": [
       "array([330013.99      , 224268.25      , 207087.        , ...,\n",
       "       514999.99      , 580620.98      , 350704.33333333])"
      ]
     },
     "execution_count": 18,
     "metadata": {},
     "output_type": "execute_result"
    }
   ],
   "source": [
    "res"
   ]
  },
  {
   "cell_type": "code",
   "execution_count": 19,
   "id": "d3f806e8",
   "metadata": {},
   "outputs": [],
   "source": [
    "X = ml_Temp.drop(columns=\"Orig_List_Price\")\n",
    "y = ml_Temp[\"Orig_List_Price\"]"
   ]
  },
  {
   "cell_type": "code",
   "execution_count": 20,
   "id": "6dc42d57",
   "metadata": {},
   "outputs": [
    {
     "data": {
      "text/plain": [
       "(3934, 18)"
      ]
     },
     "execution_count": 20,
     "metadata": {},
     "output_type": "execute_result"
    }
   ],
   "source": [
    "from sklearn.model_selection import train_test_split\n",
    "X_train, X_test, y_train, y_test = train_test_split(X,y,test_size=0.2)\n",
    "X_train.shape"
   ]
  },
  {
   "cell_type": "code",
   "execution_count": 21,
   "id": "c783ec80",
   "metadata": {},
   "outputs": [],
   "source": [
    "mod_score = loaded_model.score(X_test,y_test)"
   ]
  },
  {
   "cell_type": "code",
   "execution_count": 22,
   "id": "eb70224f",
   "metadata": {},
   "outputs": [
    {
     "data": {
      "text/plain": [
       "0.9120364882716853"
      ]
     },
     "execution_count": 22,
     "metadata": {},
     "output_type": "execute_result"
    }
   ],
   "source": [
    "mod_score"
   ]
  },
  {
   "cell_type": "markdown",
   "id": "2e52d94d",
   "metadata": {},
   "source": [
    "# TESTING SCALING ON MULTIPLE MODELS"
   ]
  },
  {
   "cell_type": "code",
   "execution_count": 23,
   "id": "c4c6a6c1",
   "metadata": {},
   "outputs": [],
   "source": [
    "data_scaler = StandardScaler()"
   ]
  },
  {
   "cell_type": "code",
   "execution_count": 24,
   "id": "14c21810",
   "metadata": {},
   "outputs": [],
   "source": [
    "ml_data_scaled = data_scaler.fit_transform(ml_Temp.drop(columns=\"Orig_List_Price\"))"
   ]
  },
  {
   "cell_type": "code",
   "execution_count": 25,
   "id": "8235483a",
   "metadata": {},
   "outputs": [
    {
     "data": {
      "text/plain": [
       "array([[ 1.41954626,  0.73664285,  0.83424744, ...,  0.80815175,\n",
       "         0.74901169, -0.14994135],\n",
       "       [ 1.41954626,  0.38938688,  0.83424744, ..., -1.23739138,\n",
       "        -1.22644398,  0.50628094],\n",
       "       [ 1.41954626,  1.61598458,  0.83424744, ..., -1.23739138,\n",
       "         1.79771038,  0.83439208],\n",
       "       ...,\n",
       "       [-1.42118285,  0.88786722,  0.83424744, ...,  0.80815175,\n",
       "        -1.22644398,  0.98021926],\n",
       "       [-1.42118285,  0.50140493,  0.83424744, ...,  0.80815175,\n",
       "        -0.03141524,  1.08958964],\n",
       "       [-1.42118285, -1.83417152,  0.83424744, ...,  0.80815175,\n",
       "         0.60268164,  1.45415758]])"
      ]
     },
     "execution_count": 25,
     "metadata": {},
     "output_type": "execute_result"
    }
   ],
   "source": [
    "ml_data_scaled"
   ]
  },
  {
   "cell_type": "code",
   "execution_count": 26,
   "id": "ef8311a2",
   "metadata": {},
   "outputs": [
    {
     "data": {
      "text/plain": [
       "0.0"
      ]
     },
     "execution_count": 26,
     "metadata": {},
     "output_type": "execute_result"
    }
   ],
   "source": [
    "np.mean(ml_data_scaled[:,0])"
   ]
  },
  {
   "cell_type": "code",
   "execution_count": 27,
   "id": "963637c4",
   "metadata": {},
   "outputs": [
    {
     "data": {
      "text/plain": [
       "1.0000000000000002"
      ]
     },
     "execution_count": 27,
     "metadata": {},
     "output_type": "execute_result"
    }
   ],
   "source": [
    "np.std(ml_data_scaled[:,0])"
   ]
  },
  {
   "cell_type": "code",
   "execution_count": 28,
   "id": "34b63537",
   "metadata": {},
   "outputs": [],
   "source": [
    "#Scaling Training Data\n",
    "scaler = StandardScaler()\n",
    "\n",
    "X_scaler = scaler.fit(X_train)\n",
    "\n",
    "#Scaliing the data\n",
    "\n",
    "X_train_scaled = X_scaler.transform(X_train)\n",
    "X_test_scaled = X_scaler.transform(X_test)"
   ]
  },
  {
   "cell_type": "markdown",
   "id": "40ecb281",
   "metadata": {},
   "source": [
    "## Test 1 : RandomForestRegressor"
   ]
  },
  {
   "cell_type": "code",
   "execution_count": 29,
   "id": "87d3be3d",
   "metadata": {},
   "outputs": [],
   "source": [
    "from sklearn.ensemble import RandomForestRegressor"
   ]
  },
  {
   "cell_type": "code",
   "execution_count": 38,
   "id": "2bd11aad",
   "metadata": {},
   "outputs": [],
   "source": [
    "rfr_model = RandomForestRegressor(n_jobs=-1 , random_state=40)\n",
    "\n",
    "rfr_model = rfr_model.fit(X_train_scaled,y_train)"
   ]
  },
  {
   "cell_type": "code",
   "execution_count": 39,
   "id": "f3b40536",
   "metadata": {},
   "outputs": [],
   "source": [
    "rfr_pred = rfr_model.predict(X_test_scaled)"
   ]
  },
  {
   "cell_type": "code",
   "execution_count": 40,
   "id": "0376aa9a",
   "metadata": {},
   "outputs": [
    {
     "data": {
      "text/plain": [
       "array([252180.66666667, 294613.48      , 347330.94      , 375732.99      ,\n",
       "       331533.        , 251925.9       , 345429.92      , 267055.        ,\n",
       "       339160.        , 341691.5       , 211094.3       , 260747.59666667,\n",
       "       500852.96      , 291067.        , 369831.        , 488683.        ,\n",
       "       450892.        , 286280.97      , 208607.        , 283039.95      ,\n",
       "       247835.        , 477560.95      , 287287.15666667, 387010.89      ,\n",
       "       251102.        , 263964.        , 273620.98      , 346253.        ,\n",
       "       233825.33      , 209248.8       , 220831.5       , 298541.66666667,\n",
       "       229092.        , 278492.        , 214932.89      , 367258.98      ,\n",
       "       401867.        , 229443.95      , 304191.98      , 281909.5       ,\n",
       "       442514.85      , 368212.63666667, 239356.98      , 243205.91      ,\n",
       "       258886.99      , 236401.        , 325772.83      , 349089.        ,\n",
       "       402370.28      , 245000.97      , 258121.9       , 319544.        ,\n",
       "       230649.56666667, 267516.89      , 519533.79      , 517614.27333333,\n",
       "       523577.8       , 435701.98      , 523888.        , 347150.99      ,\n",
       "       282664.98      , 378798.06      , 410646.97      , 251806.96      ,\n",
       "       222977.        , 213199.48      , 234450.45      , 245520.        ,\n",
       "       287140.4       , 358284.57      , 345363.        , 339486.        ,\n",
       "       234958.        , 303098.62666667, 384322.        , 378054.        ,\n",
       "       310119.79      , 239225.        , 476415.        , 492693.95      ,\n",
       "       282521.98      , 223924.        , 362866.99      , 305597.9       ,\n",
       "       489618.94      , 243054.        , 277991.98      , 261330.        ,\n",
       "       262767.        , 334963.97      , 543930.        , 279327.        ,\n",
       "       224062.87      , 268365.99      , 257432.75      , 251852.88      ,\n",
       "       233531.96      , 389682.        , 261399.99      , 549693.94      ,\n",
       "       485626.89      , 243739.        , 233607.1       , 371413.        ,\n",
       "       225492.89      , 299666.        , 256496.        , 252983.99      ,\n",
       "       239369.95      , 221620.99      , 233751.2       , 473788.48      ,\n",
       "       329951.95      , 329214.99      , 361027.        , 529584.86      ,\n",
       "       260475.93      , 273566.58      , 228481.99      , 490076.        ,\n",
       "       285162.21      , 376428.5       , 455310.99      , 260636.        ,\n",
       "       250606.25      , 255871.95      , 231327.58      , 521181.        ,\n",
       "       288641.94      , 227290.        , 234688.59      , 239387.49      ,\n",
       "       487643.        , 377957.        , 482668.        , 311446.76      ,\n",
       "       240968.99      , 242540.96      , 244211.96      , 226260.        ,\n",
       "       258560.        , 495653.        , 263993.98      , 229619.96      ,\n",
       "       245164.        , 253669.93      , 346204.        , 350651.97      ,\n",
       "       381800.        , 343744.63      , 366145.97      , 379682.95      ,\n",
       "       308837.98      , 355202.98      , 470352.99      , 347584.24      ,\n",
       "       224131.94      , 239538.        , 322021.        , 502130.89      ,\n",
       "       379450.67      , 340564.25      , 351267.96      , 240524.4       ,\n",
       "       335847.        , 304626.97      , 348148.        , 310412.        ,\n",
       "       373099.97      , 250148.99      , 465057.        , 396055.        ,\n",
       "       384149.        , 220925.99      , 342505.        , 306924.99      ,\n",
       "       488735.94      , 244915.13      , 266696.        , 288414.        ,\n",
       "       466724.5       , 490661.        , 261763.        , 241309.99      ,\n",
       "       292073.99      , 310138.47      , 253551.        , 297696.93      ,\n",
       "       470383.99      , 471812.95      , 292574.9       , 340274.        ,\n",
       "       340692.        , 376781.98      , 224636.        , 205372.        ,\n",
       "       329016.75      , 224180.        , 259689.47333333, 227855.99      ,\n",
       "       438473.5       , 244849.5       , 254561.65666667, 252764.3       ,\n",
       "       232602.        , 432098.98      , 552281.7       , 270815.98      ,\n",
       "       309773.        , 336280.99      , 282844.95      , 293600.        ,\n",
       "       478059.        , 295270.94      , 221875.9       , 352840.99      ,\n",
       "       455830.99      , 232203.89      , 311219.98      , 232001.        ,\n",
       "       400121.77      , 319323.        , 281548.99      , 260717.        ,\n",
       "       316436.61666667, 270690.49      , 466710.99      , 226735.25      ,\n",
       "       262551.25      , 491372.        , 246176.1       , 411665.4       ,\n",
       "       436211.        , 485596.        , 416541.51      , 397802.98      ,\n",
       "       255225.99      , 223340.        , 251190.98      , 324142.85      ,\n",
       "       336329.99      , 321137.97      , 404153.92      , 260570.87      ,\n",
       "       217863.99      , 275301.97      , 214221.        , 368300.        ,\n",
       "       237971.5       , 224173.91      , 227708.45      , 483546.99      ,\n",
       "       230381.        , 327681.        , 229299.99      , 336953.49      ,\n",
       "       418804.        , 488854.98      , 235295.        , 430075.9       ,\n",
       "       502937.99      , 297571.5       , 234713.        , 279725.        ,\n",
       "       486061.99      , 436764.96      , 242501.98      , 227161.95      ,\n",
       "       248688.33333333, 249377.99      , 232888.89      , 344760.5       ,\n",
       "       228980.52142857, 344178.        , 451573.97      , 268986.99      ,\n",
       "       388266.        , 307135.99      , 515649.99      , 234034.99      ,\n",
       "       334049.94      , 247445.99      , 263554.96      , 318203.10333333,\n",
       "       230819.98      , 268963.83      , 260570.82      , 339527.99      ,\n",
       "       247227.94      , 436873.96      , 249947.5       , 302245.98      ,\n",
       "       225540.9       , 314667.99      , 240729.        , 284311.        ,\n",
       "       238073.96      , 213785.95      , 411546.98      , 456734.99      ,\n",
       "       405585.        , 218347.        , 327401.8       , 462483.97      ,\n",
       "       364789.        , 421765.        , 297390.99      , 307932.        ,\n",
       "       358280.98      , 396209.        , 268273.        , 481109.95      ,\n",
       "       361580.99      , 318152.82      , 389407.        , 440147.        ,\n",
       "       326897.99      , 213723.33333333, 401906.41      , 228162.99      ,\n",
       "       287688.        , 410432.99      , 345664.96      , 322665.95      ,\n",
       "       314187.99      , 252310.95      , 282422.95      , 219182.79      ,\n",
       "       249076.99      , 369755.99      , 260972.        , 291077.89      ,\n",
       "       364161.        , 327123.21      , 248141.        , 309361.        ,\n",
       "       236114.99      , 495385.96      , 429635.91      , 300265.99      ,\n",
       "       208159.        , 260172.        , 240441.97      , 239264.94      ,\n",
       "       283118.99      , 246522.89      , 284937.        , 527224.91      ,\n",
       "       268066.        , 390009.        , 316393.        , 239509.4       ,\n",
       "       531590.        , 321981.88      , 230905.95      , 217674.98      ,\n",
       "       240571.87      , 360527.93      , 251235.96      , 215943.9       ,\n",
       "       242814.83      , 295122.        , 485142.        , 276308.93333333,\n",
       "       249953.98      , 289890.06      , 281473.96      , 407211.5       ,\n",
       "       516502.47      , 250745.95      , 332870.32333333, 379909.03      ,\n",
       "       224777.99      , 304498.27333333, 311873.99      , 329093.97      ,\n",
       "       312456.35      , 505531.98      , 381012.98      , 253469.99      ,\n",
       "       265850.        , 246923.        , 221840.39      , 290650.99      ,\n",
       "       293985.        , 261952.        , 379200.98      , 276524.98      ,\n",
       "       399268.        , 232122.        , 299714.        , 244781.99      ,\n",
       "       280607.        , 291676.        , 264627.        , 358802.99      ,\n",
       "       316248.98      , 276146.        , 216533.        , 267422.        ,\n",
       "       298856.        , 341518.98      , 431347.        , 321956.        ,\n",
       "       282550.98      , 226019.9       , 226878.        , 526408.63      ,\n",
       "       250243.99      , 348044.96      , 258357.99      , 331940.99      ,\n",
       "       224025.99      , 264717.        , 288456.        , 469249.        ,\n",
       "       485250.98      , 219505.        , 321739.        , 307161.97      ,\n",
       "       357921.        , 235295.        , 510630.        , 359023.99      ,\n",
       "       241220.9       , 253611.25      , 243452.        , 330886.99      ,\n",
       "       275914.        , 293109.66666667, 274281.99      , 286142.        ,\n",
       "       241764.9       , 249367.        , 333932.99      , 335223.33333333,\n",
       "       352146.        , 289774.        , 451747.        , 241548.46      ,\n",
       "       383554.99      , 277369.33333333, 316533.        , 229315.23      ,\n",
       "       277256.99      , 371619.        , 300012.        , 406374.88      ,\n",
       "       329192.49      , 224196.        , 506093.13      , 265310.96      ,\n",
       "       243705.        , 339024.97      , 248007.99      , 455838.47      ,\n",
       "       229449.        , 517058.        , 240008.99      , 280661.        ,\n",
       "       257254.        , 481904.5       , 517468.4       , 289160.98      ,\n",
       "       273792.98      , 385362.94      , 312627.31333333, 279254.98      ,\n",
       "       414058.87      , 317541.        , 209286.7       , 261321.        ,\n",
       "       320779.76333333, 288396.        , 227785.9       , 276198.        ,\n",
       "       323302.96      , 452940.5       , 246434.        , 523271.1       ,\n",
       "       294734.74      , 237726.        , 290283.95      , 215306.95      ,\n",
       "       418138.78      , 289695.        , 530837.97      , 349163.77      ,\n",
       "       478213.64      , 249049.88      , 249922.78333333, 259738.98      ,\n",
       "       230853.5       , 230043.99      , 273916.31666667, 305976.97      ,\n",
       "       379142.        , 389087.        , 377669.87      , 359187.8       ,\n",
       "       335847.        , 584501.        , 238113.93      , 345143.        ,\n",
       "       263975.9       , 287199.96      , 299279.99      , 223862.31333333,\n",
       "       278125.52      , 213242.        , 321049.5       , 283524.48      ,\n",
       "       250011.98      , 465321.99      , 348564.97      , 439063.99      ,\n",
       "       272263.        , 420495.39      , 221948.49      , 429405.99      ,\n",
       "       371595.89      , 372975.        , 391959.        , 355992.        ,\n",
       "       475656.        , 240554.98      , 360187.99      , 360719.77      ,\n",
       "       376554.        , 225328.48      , 332907.        , 311633.99      ,\n",
       "       258483.        , 347300.99      , 333798.        , 240947.9       ,\n",
       "       426369.98      , 328899.        , 239881.        , 239719.48      ,\n",
       "       452568.87      , 295706.64333333, 211696.        , 242738.95      ,\n",
       "       239683.5       , 250371.9       , 249059.49      , 362802.87      ,\n",
       "       558641.79      , 272285.98      , 377431.99      , 285439.93      ,\n",
       "       237433.        , 274615.        , 400461.76      , 230869.25      ,\n",
       "       246829.        , 225178.        , 225592.6       , 356437.2       ,\n",
       "       308978.98      , 349311.97      , 247969.49      , 288530.95      ,\n",
       "       212730.79      , 306762.        , 529478.98      , 401712.99      ,\n",
       "       323307.        , 315249.89      , 356995.        , 390897.99      ,\n",
       "       209394.        , 297273.5       , 432862.        , 347129.96      ,\n",
       "       284746.89      , 251722.22      , 228847.45      , 275130.99      ,\n",
       "       270295.7       , 414519.        , 414026.99      , 364886.        ,\n",
       "       380425.64      , 363863.77      , 249973.        , 532066.64666667,\n",
       "       268908.89      , 358135.92      , 293764.75      , 285145.        ,\n",
       "       271750.99      , 327901.98      , 381072.99      , 271945.97      ,\n",
       "       269385.99      , 342766.5       , 352015.99      , 529422.85      ,\n",
       "       233427.85      , 438631.        , 489353.        , 253516.75      ,\n",
       "       336132.        , 218323.9       , 509200.9       , 373109.98      ,\n",
       "       369881.9       , 340158.        , 338117.82      , 284878.        ,\n",
       "       262532.66666667, 248110.        , 309236.88      , 327045.99      ,\n",
       "       302471.98      , 426461.95      , 253761.        , 209001.4       ,\n",
       "       299801.99      , 281769.49      , 345303.97      , 548401.37      ,\n",
       "       325808.98      , 475150.        , 222896.98      , 553245.27333333,\n",
       "       224887.        , 445705.5       , 514067.        , 317317.49      ,\n",
       "       223063.        , 314321.92      , 234935.99      , 290369.98      ,\n",
       "       375837.        , 268549.        , 255062.66666667, 280376.        ,\n",
       "       507895.        , 438766.        , 313570.        , 317153.6       ,\n",
       "       286914.        , 358172.        , 275108.        , 311621.        ,\n",
       "       268749.        , 260339.        , 294556.99      , 293622.99      ,\n",
       "       297370.        , 238529.        , 260998.        , 305476.45      ,\n",
       "       318689.99      , 359022.95      , 374305.        , 468757.98      ,\n",
       "       379926.98      , 280424.98      , 257459.63333333, 248707.99      ,\n",
       "       257603.        , 354743.87      , 327085.87      , 516033.97      ,\n",
       "       290749.08333333, 508796.99      , 228403.99      , 464335.        ,\n",
       "       538060.        , 300315.66666667, 489599.        , 499050.94      ,\n",
       "       375916.4       , 299875.96      , 350943.95      , 278361.99      ,\n",
       "       523683.        , 250352.23333333, 422793.87      , 263141.99      ,\n",
       "       243601.6       , 313876.49      , 370562.99      , 220396.99      ,\n",
       "       221888.95      , 359955.99      , 415383.95      , 358790.        ,\n",
       "       301138.6       , 484693.        , 479534.        , 427029.88      ,\n",
       "       261344.99      , 385102.88      , 326843.92      , 409338.1       ,\n",
       "       210137.        , 221354.75      , 291337.49      , 368387.93      ,\n",
       "       228084.04      , 288344.        , 481135.        , 270695.        ,\n",
       "       235052.        , 223743.97      , 253054.89      , 287721.30333333,\n",
       "       311172.30333333, 255168.        , 438950.        , 314017.93      ,\n",
       "       245043.4       , 264967.99      , 247720.94      , 449327.        ,\n",
       "       303623.        , 337212.        , 293919.08333333, 398404.98      ,\n",
       "       319460.99      , 340712.76      , 257655.48      , 341766.74      ,\n",
       "       251609.        , 280804.        , 288670.99      , 238751.9       ,\n",
       "       265509.99      , 279660.98      , 332232.        , 268731.        ,\n",
       "       263771.79      , 218037.        , 481029.5       , 264352.33333333,\n",
       "       331804.98      , 339968.99      , 335823.99      , 358118.99      ,\n",
       "       362348.99      , 479341.99      , 216299.97      , 300587.        ,\n",
       "       271741.        , 268383.97      , 345727.        , 323875.99      ,\n",
       "       341529.22      , 232446.76333333, 253635.        , 302282.87      ,\n",
       "       262255.        , 323421.97      , 330260.98      , 214127.74      ,\n",
       "       231571.99      , 493658.89      , 237950.93333333, 288865.        ,\n",
       "       456082.99      , 237381.94      , 248207.9       , 490982.99      ,\n",
       "       302965.99      , 464035.99      , 264416.92      , 275881.        ,\n",
       "       429958.        , 242218.        , 374007.94      , 291890.        ,\n",
       "       273221.88      , 283485.        , 313478.99      , 268037.5       ,\n",
       "       351967.97      , 386020.        , 408868.        , 389902.17      ,\n",
       "       213755.98      , 215978.99      , 334277.98      , 223862.48      ,\n",
       "       246329.        , 278500.88      , 360043.95      , 293979.        ,\n",
       "       494104.98      , 484817.99      , 275063.97      , 286070.        ,\n",
       "       363310.45      , 230019.9       , 321670.97      , 242406.88      ,\n",
       "       266561.        , 528077.        , 419930.93      , 321217.        ,\n",
       "       230707.        , 328581.48      , 377311.59      , 301974.        ,\n",
       "       297339.98      , 598779.        , 477199.41      , 503937.94      ,\n",
       "       236402.79      , 211174.6       , 237068.69      , 262674.85      ,\n",
       "       223589.55666667, 271131.96      , 296555.        , 360115.93      ,\n",
       "       264632.13333333, 216546.        , 257857.        , 312772.72      ,\n",
       "       367297.98      , 497982.        , 258506.94      , 467709.        ,\n",
       "       285658.        , 359128.98      , 348389.9       , 289503.        ,\n",
       "       321645.76      , 258654.        , 249823.75      , 513727.        ,\n",
       "       565602.        , 291074.33333333, 278871.32333333, 288091.98      ,\n",
       "       269950.99      , 288477.98      , 284342.98      , 368970.87      ,\n",
       "       233693.        , 324473.99      , 333063.5       , 363205.82      ,\n",
       "       368225.97      , 285047.        , 221182.        , 368172.        ,\n",
       "       467962.99      , 374822.        , 446321.        , 396421.04      ,\n",
       "       255785.75      , 234745.55142857, 246518.98      , 221658.5       ,\n",
       "       260610.        , 245907.99      , 256054.5       , 470255.        ,\n",
       "       312116.94      , 295712.97      , 243160.        , 272403.99      ,\n",
       "       229679.99      , 374623.89      , 429545.5       , 260534.97      ,\n",
       "       364174.98      , 267233.99      , 240869.99      , 498263.88      ,\n",
       "       332032.        , 305703.99      , 370133.89      , 267624.89      ,\n",
       "       348766.87      , 280704.98      , 249654.8       , 245043.4       ,\n",
       "       270206.99      , 510265.        , 510408.96666667, 372525.21      ,\n",
       "       384202.        , 306432.39666667, 277116.        , 283731.5       ,\n",
       "       262617.        , 354147.87      , 276955.99      , 219733.89      ,\n",
       "       480509.99      , 337717.25      , 286327.99      , 273182.5       ,\n",
       "       217974.9       , 244594.46666667, 336975.        , 530431.83333333,\n",
       "       451360.39      , 521639.        , 253282.        , 383269.9       ,\n",
       "       338322.96      , 271418.        , 418225.        , 530110.96      ,\n",
       "       265270.99      , 288471.82333333, 410029.98      , 260846.        ,\n",
       "       294190.98      , 252022.        , 238546.5       , 261383.99      ,\n",
       "       281658.        , 307499.94      , 295003.98      , 233968.        ,\n",
       "       230789.79      , 471119.        , 302546.        , 336360.99      ,\n",
       "       264729.        , 244369.31333333, 219489.        , 463960.99      ,\n",
       "       239412.25      , 281641.97      , 219004.88      , 218655.        ,\n",
       "       222424.        , 449844.        , 339769.91      , 282190.        ,\n",
       "       216499.99      , 398173.        , 453277.        , 363466.99      ,\n",
       "       306906.        , 311415.33333333, 360112.97      , 346441.99      ,\n",
       "       420071.        , 275712.9       , 347671.95      , 459534.87      ,\n",
       "       245043.4       , 310303.25      , 285426.99      , 313112.66666667,\n",
       "       343423.49      , 310069.88      , 238511.        , 230099.93      ,\n",
       "       322710.83      , 355500.96      , 255447.        , 294143.99      ,\n",
       "       227061.        , 293839.96      , 216725.        , 404572.92      ,\n",
       "       421715.99      , 444443.95      , 225835.96      , 398545.9       ,\n",
       "       374684.86      , 390833.88      , 226814.9       , 323199.96      ,\n",
       "       219766.99      , 250563.98      , 494239.        , 247064.7       ,\n",
       "       220854.86      , 356144.99      , 524145.97      , 226843.        ])"
      ]
     },
     "execution_count": 40,
     "metadata": {},
     "output_type": "execute_result"
    }
   ],
   "source": [
    "rfr_pred"
   ]
  },
  {
   "cell_type": "code",
   "execution_count": 41,
   "id": "e891ff52",
   "metadata": {},
   "outputs": [
    {
     "data": {
      "text/plain": [
       "0.7502608760686673"
      ]
     },
     "execution_count": 41,
     "metadata": {},
     "output_type": "execute_result"
    }
   ],
   "source": [
    "rfr_model.score(X_test_scaled,y_test)"
   ]
  },
  {
   "cell_type": "code",
   "execution_count": 42,
   "id": "e1d0bc94",
   "metadata": {},
   "outputs": [],
   "source": [
    "from sklearn.metrics import mean_squared_log_error, mean_absolute_error ,r2_score\n",
    "def show_score(model):\n",
    "    train_pred = model.predict(X_train_scaled)\n",
    "    val_pred = model.predict(X_test_scaled)\n",
    "    scores={\"Training MAE\" : mean_absolute_error(y_train,train_pred),\n",
    "            \"Valid MAE\" : mean_absolute_error(y_test, val_pred),\n",
    "            \"Training RMSLE\": np.sqrt(mean_squared_log_error(y_train, train_pred)),\n",
    "            \"Valid RMSLE\" :  np.sqrt(mean_squared_log_error(y_test,val_pred)),\n",
    "            \"Training R^2\" : r2_score(y_train, train_pred),\n",
    "            \"Valid R^2\" : r2_score(y_test,val_pred)\n",
    "           }\n",
    "    return scores"
   ]
  },
  {
   "cell_type": "code",
   "execution_count": 43,
   "id": "f1093b59",
   "metadata": {},
   "outputs": [
    {
     "data": {
      "text/plain": [
       "{'Training MAE': 13980.207375384318,\n",
       " 'Valid MAE': 36191.55754065041,\n",
       " 'Training RMSLE': 0.059310705683357653,\n",
       " 'Valid RMSLE': 0.1479598434134952,\n",
       " 'Training R^2': 0.9317341276848287,\n",
       " 'Valid R^2': 0.7502608760686673}"
      ]
     },
     "execution_count": 43,
     "metadata": {},
     "output_type": "execute_result"
    }
   ],
   "source": [
    "show_score(rfr_model)"
   ]
  },
  {
   "cell_type": "code",
   "execution_count": 54,
   "id": "d9f33294",
   "metadata": {},
   "outputs": [],
   "source": [
    "filename = 'RandomForestRegressor_Scal_model.sav'\n",
    "pickle.dump(rfr_model, open(filename, 'wb'))"
   ]
  },
  {
   "cell_type": "markdown",
   "id": "58c82824",
   "metadata": {},
   "source": [
    "## To load model later:\n",
    "```\n",
    " //load the model from disk\n",
    "loaded_model = pickle.load(open(filename, 'rb'))\n",
    "result = loaded_model.score(X_test, Y_test)\n",
    "print(result)\n",
    "```"
   ]
  },
  {
   "cell_type": "markdown",
   "id": "c0b9aa49",
   "metadata": {},
   "source": [
    "#### Attaching Prediction to original model to compare"
   ]
  },
  {
   "cell_type": "code",
   "execution_count": 44,
   "id": "e4e12453",
   "metadata": {},
   "outputs": [],
   "source": [
    "test_pred_unscaled = loaded_model.predict(ml_Temp.drop(columns=\"Orig_List_Price\"))"
   ]
  },
  {
   "cell_type": "code",
   "execution_count": 45,
   "id": "922daf2d",
   "metadata": {},
   "outputs": [],
   "source": [
    "test_pred = rfr_model.predict(ml_data_scaled)"
   ]
  },
  {
   "cell_type": "code",
   "execution_count": 46,
   "id": "9882b0d9",
   "metadata": {},
   "outputs": [],
   "source": [
    "pred_df = pd.DataFrame.copy(ml_df ,deep=True)"
   ]
  },
  {
   "cell_type": "code",
   "execution_count": 47,
   "id": "4c4991d7",
   "metadata": {},
   "outputs": [],
   "source": [
    "pred_df[\"Pred_List_Price_RFR_Scaled\"] = test_pred"
   ]
  },
  {
   "cell_type": "code",
   "execution_count": 48,
   "id": "8988d61a",
   "metadata": {},
   "outputs": [],
   "source": [
    "pred_df[\"Pred_List_Price_RFR_Unscaled\"] = test_pred_unscaled"
   ]
  },
  {
   "cell_type": "code",
   "execution_count": 49,
   "id": "eceec873",
   "metadata": {},
   "outputs": [],
   "source": [
    "delta_df = pd.DataFrame.copy(pred_df[[\"MLSNumber\",\"Zip_Code\",\"Orig_List_Price\",\"Pred_List_Price_RFR_Unscaled\",\"Pred_List_Price_RFR_Scaled\" ]],deep=True)"
   ]
  },
  {
   "cell_type": "code",
   "execution_count": 50,
   "id": "41116914",
   "metadata": {},
   "outputs": [],
   "source": [
    "delta_df[\"Price_Diff_RFR_Unscaled \"] = delta_df[\"Orig_List_Price\"] - delta_df[\"Pred_List_Price_RFR_Unscaled\"]"
   ]
  },
  {
   "cell_type": "code",
   "execution_count": 51,
   "id": "f12d584a",
   "metadata": {},
   "outputs": [],
   "source": [
    "delta_df[\"Price_Diff_RFR_Scaled \"] = delta_df[\"Orig_List_Price\"] - delta_df[\"Pred_List_Price_RFR_Scaled\"]"
   ]
  },
  {
   "cell_type": "code",
   "execution_count": 52,
   "id": "6579fb93",
   "metadata": {},
   "outputs": [
    {
     "data": {
      "text/html": [
       "<div>\n",
       "<style scoped>\n",
       "    .dataframe tbody tr th:only-of-type {\n",
       "        vertical-align: middle;\n",
       "    }\n",
       "\n",
       "    .dataframe tbody tr th {\n",
       "        vertical-align: top;\n",
       "    }\n",
       "\n",
       "    .dataframe thead th {\n",
       "        text-align: right;\n",
       "    }\n",
       "</style>\n",
       "<table border=\"1\" class=\"dataframe\">\n",
       "  <thead>\n",
       "    <tr style=\"text-align: right;\">\n",
       "      <th></th>\n",
       "      <th>MLSNumber</th>\n",
       "      <th>Zip_Code</th>\n",
       "      <th>Orig_List_Price</th>\n",
       "      <th>Pred_List_Price_RFR_Unscaled</th>\n",
       "      <th>Pred_List_Price_RFR_Scaled</th>\n",
       "      <th>Price_Diff_RFR_Unscaled</th>\n",
       "      <th>Price_Diff_RFR_Scaled</th>\n",
       "    </tr>\n",
       "  </thead>\n",
       "  <tbody>\n",
       "    <tr>\n",
       "      <th>4766</th>\n",
       "      <td>DENC508258</td>\n",
       "      <td>19707</td>\n",
       "      <td>535000.0</td>\n",
       "      <td>530744.80</td>\n",
       "      <td>523916.75</td>\n",
       "      <td>4255.20</td>\n",
       "      <td>11083.25</td>\n",
       "    </tr>\n",
       "    <tr>\n",
       "      <th>333</th>\n",
       "      <td>DENC524252</td>\n",
       "      <td>19808</td>\n",
       "      <td>375000.0</td>\n",
       "      <td>372607.00</td>\n",
       "      <td>375527.00</td>\n",
       "      <td>2393.00</td>\n",
       "      <td>-527.00</td>\n",
       "    </tr>\n",
       "    <tr>\n",
       "      <th>1948</th>\n",
       "      <td>DENC2005068</td>\n",
       "      <td>19804</td>\n",
       "      <td>234900.0</td>\n",
       "      <td>228505.99</td>\n",
       "      <td>225364.35</td>\n",
       "      <td>6394.01</td>\n",
       "      <td>9535.65</td>\n",
       "    </tr>\n",
       "    <tr>\n",
       "      <th>1053</th>\n",
       "      <td>DENC507926</td>\n",
       "      <td>19806</td>\n",
       "      <td>525000.0</td>\n",
       "      <td>461728.96</td>\n",
       "      <td>381743.00</td>\n",
       "      <td>63271.04</td>\n",
       "      <td>143257.00</td>\n",
       "    </tr>\n",
       "    <tr>\n",
       "      <th>4911</th>\n",
       "      <td>DENC2004562</td>\n",
       "      <td>19707</td>\n",
       "      <td>635000.0</td>\n",
       "      <td>591537.99</td>\n",
       "      <td>591701.00</td>\n",
       "      <td>43462.01</td>\n",
       "      <td>43299.00</td>\n",
       "    </tr>\n",
       "    <tr>\n",
       "      <th>1546</th>\n",
       "      <td>DENC526644</td>\n",
       "      <td>19805</td>\n",
       "      <td>215000.0</td>\n",
       "      <td>234520.00</td>\n",
       "      <td>308182.98</td>\n",
       "      <td>-19520.00</td>\n",
       "      <td>-93182.98</td>\n",
       "    </tr>\n",
       "    <tr>\n",
       "      <th>335</th>\n",
       "      <td>DENC509556</td>\n",
       "      <td>19808</td>\n",
       "      <td>365000.0</td>\n",
       "      <td>349777.98</td>\n",
       "      <td>318951.89</td>\n",
       "      <td>15222.02</td>\n",
       "      <td>46048.11</td>\n",
       "    </tr>\n",
       "    <tr>\n",
       "      <th>4471</th>\n",
       "      <td>DENC525614</td>\n",
       "      <td>19711</td>\n",
       "      <td>375000.0</td>\n",
       "      <td>361311.00</td>\n",
       "      <td>357989.00</td>\n",
       "      <td>13689.00</td>\n",
       "      <td>17011.00</td>\n",
       "    </tr>\n",
       "    <tr>\n",
       "      <th>3205</th>\n",
       "      <td>DENC508994</td>\n",
       "      <td>19720</td>\n",
       "      <td>294900.0</td>\n",
       "      <td>317850.45</td>\n",
       "      <td>338747.99</td>\n",
       "      <td>-22950.45</td>\n",
       "      <td>-43847.99</td>\n",
       "    </tr>\n",
       "    <tr>\n",
       "      <th>2708</th>\n",
       "      <td>DENC2014564</td>\n",
       "      <td>19802</td>\n",
       "      <td>199000.0</td>\n",
       "      <td>206343.00</td>\n",
       "      <td>211844.00</td>\n",
       "      <td>-7343.00</td>\n",
       "      <td>-12844.00</td>\n",
       "    </tr>\n",
       "  </tbody>\n",
       "</table>\n",
       "</div>"
      ],
      "text/plain": [
       "        MLSNumber  Zip_Code  Orig_List_Price  Pred_List_Price_RFR_Unscaled  \\\n",
       "4766   DENC508258     19707         535000.0                     530744.80   \n",
       "333    DENC524252     19808         375000.0                     372607.00   \n",
       "1948  DENC2005068     19804         234900.0                     228505.99   \n",
       "1053   DENC507926     19806         525000.0                     461728.96   \n",
       "4911  DENC2004562     19707         635000.0                     591537.99   \n",
       "1546   DENC526644     19805         215000.0                     234520.00   \n",
       "335    DENC509556     19808         365000.0                     349777.98   \n",
       "4471   DENC525614     19711         375000.0                     361311.00   \n",
       "3205   DENC508994     19720         294900.0                     317850.45   \n",
       "2708  DENC2014564     19802         199000.0                     206343.00   \n",
       "\n",
       "      Pred_List_Price_RFR_Scaled  Price_Diff_RFR_Unscaled   \\\n",
       "4766                   523916.75                   4255.20   \n",
       "333                    375527.00                   2393.00   \n",
       "1948                   225364.35                   6394.01   \n",
       "1053                   381743.00                  63271.04   \n",
       "4911                   591701.00                  43462.01   \n",
       "1546                   308182.98                 -19520.00   \n",
       "335                    318951.89                  15222.02   \n",
       "4471                   357989.00                  13689.00   \n",
       "3205                   338747.99                 -22950.45   \n",
       "2708                   211844.00                  -7343.00   \n",
       "\n",
       "      Price_Diff_RFR_Scaled   \n",
       "4766                11083.25  \n",
       "333                  -527.00  \n",
       "1948                 9535.65  \n",
       "1053               143257.00  \n",
       "4911                43299.00  \n",
       "1546               -93182.98  \n",
       "335                 46048.11  \n",
       "4471                17011.00  \n",
       "3205               -43847.99  \n",
       "2708               -12844.00  "
      ]
     },
     "execution_count": 52,
     "metadata": {},
     "output_type": "execute_result"
    }
   ],
   "source": [
    "delta_df.sample(10)"
   ]
  },
  {
   "cell_type": "code",
   "execution_count": 56,
   "id": "afd4ef55",
   "metadata": {},
   "outputs": [],
   "source": [
    "#delta_df.to_csv(\"../Resources/randomforest_prediction.csv\",index=False)"
   ]
  },
  {
   "cell_type": "code",
   "execution_count": 57,
   "id": "26a86f30",
   "metadata": {},
   "outputs": [],
   "source": [
    "def feature_plot(columns, importance, n=10):\n",
    "    df = (pd.DataFrame({\"features\" : columns,\n",
    "                        \"feature_importances\" : importance}).sort_values(\"feature_importances\",ascending=False).reset_index(drop=True))\n",
    "    return df"
   ]
  },
  {
   "cell_type": "code",
   "execution_count": 59,
   "id": "f5185314",
   "metadata": {},
   "outputs": [],
   "source": [
    "pf = feature_plot(X_train.columns, rfr_model.feature_importances_)"
   ]
  },
  {
   "cell_type": "code",
   "execution_count": 60,
   "id": "962a763a",
   "metadata": {},
   "outputs": [
    {
     "data": {
      "image/png": "[encoded data removed]",
      "text/plain": [
       "<Figure size 640x480 with 1 Axes>"
      ]
     },
     "metadata": {},
     "output_type": "display_data"
    }
   ],
   "source": [
    "fig , ax = plt.subplots()\n",
    "ax.barh(pf[\"features\"] , pf[\"feature_importances\"])\n",
    "ax.invert_yaxis()"
   ]
  },
  {
   "cell_type": "code",
   "execution_count": 71,
   "id": "9f0a9c25",
   "metadata": {},
   "outputs": [
    {
     "data": {
      "text/html": [
       "<div>\n",
       "<style scoped>\n",
       "    .dataframe tbody tr th:only-of-type {\n",
       "        vertical-align: middle;\n",
       "    }\n",
       "\n",
       "    .dataframe tbody tr th {\n",
       "        vertical-align: top;\n",
       "    }\n",
       "\n",
       "    .dataframe thead th {\n",
       "        text-align: right;\n",
       "    }\n",
       "</style>\n",
       "<table border=\"1\" class=\"dataframe\">\n",
       "  <thead>\n",
       "    <tr style=\"text-align: right;\">\n",
       "      <th></th>\n",
       "      <th>features</th>\n",
       "      <th>feature_importances</th>\n",
       "    </tr>\n",
       "  </thead>\n",
       "  <tbody>\n",
       "    <tr>\n",
       "      <th>0</th>\n",
       "      <td>AboveGradeSqFt</td>\n",
       "      <td>0.491210</td>\n",
       "    </tr>\n",
       "    <tr>\n",
       "      <th>1</th>\n",
       "      <td>NumberofStories</td>\n",
       "      <td>0.100167</td>\n",
       "    </tr>\n",
       "    <tr>\n",
       "      <th>2</th>\n",
       "      <td>Acres</td>\n",
       "      <td>0.099511</td>\n",
       "    </tr>\n",
       "    <tr>\n",
       "      <th>3</th>\n",
       "      <td>YearBuilt</td>\n",
       "      <td>0.048522</td>\n",
       "    </tr>\n",
       "    <tr>\n",
       "      <th>4</th>\n",
       "      <td>Subdivision</td>\n",
       "      <td>0.041798</td>\n",
       "    </tr>\n",
       "    <tr>\n",
       "      <th>5</th>\n",
       "      <td>Zip_Code</td>\n",
       "      <td>0.035916</td>\n",
       "    </tr>\n",
       "    <tr>\n",
       "      <th>6</th>\n",
       "      <td>Garage_YN</td>\n",
       "      <td>0.034725</td>\n",
       "    </tr>\n",
       "    <tr>\n",
       "      <th>7</th>\n",
       "      <td>InteriorSqFt</td>\n",
       "      <td>0.031251</td>\n",
       "    </tr>\n",
       "    <tr>\n",
       "      <th>8</th>\n",
       "      <td>ExteriorMaterial</td>\n",
       "      <td>0.023781</td>\n",
       "    </tr>\n",
       "    <tr>\n",
       "      <th>9</th>\n",
       "      <td>Baths</td>\n",
       "      <td>0.021748</td>\n",
       "    </tr>\n",
       "    <tr>\n",
       "      <th>10</th>\n",
       "      <td>School_District</td>\n",
       "      <td>0.019214</td>\n",
       "    </tr>\n",
       "    <tr>\n",
       "      <th>11</th>\n",
       "      <td>HOA_YN</td>\n",
       "      <td>0.014672</td>\n",
       "    </tr>\n",
       "    <tr>\n",
       "      <th>12</th>\n",
       "      <td>Structure_Type</td>\n",
       "      <td>0.010847</td>\n",
       "    </tr>\n",
       "    <tr>\n",
       "      <th>13</th>\n",
       "      <td>Bedrooms</td>\n",
       "      <td>0.009510</td>\n",
       "    </tr>\n",
       "    <tr>\n",
       "      <th>14</th>\n",
       "      <td>BelowGradeSqFt</td>\n",
       "      <td>0.006929</td>\n",
       "    </tr>\n",
       "    <tr>\n",
       "      <th>15</th>\n",
       "      <td>Water</td>\n",
       "      <td>0.004470</td>\n",
       "    </tr>\n",
       "    <tr>\n",
       "      <th>16</th>\n",
       "      <td>Central_Air_YN</td>\n",
       "      <td>0.003708</td>\n",
       "    </tr>\n",
       "    <tr>\n",
       "      <th>17</th>\n",
       "      <td>Basement_YN</td>\n",
       "      <td>0.002021</td>\n",
       "    </tr>\n",
       "  </tbody>\n",
       "</table>\n",
       "</div>"
      ],
      "text/plain": [
       "            features  feature_importances\n",
       "0     AboveGradeSqFt             0.491210\n",
       "1    NumberofStories             0.100167\n",
       "2              Acres             0.099511\n",
       "3          YearBuilt             0.048522\n",
       "4        Subdivision             0.041798\n",
       "5           Zip_Code             0.035916\n",
       "6          Garage_YN             0.034725\n",
       "7       InteriorSqFt             0.031251\n",
       "8   ExteriorMaterial             0.023781\n",
       "9              Baths             0.021748\n",
       "10   School_District             0.019214\n",
       "11            HOA_YN             0.014672\n",
       "12    Structure_Type             0.010847\n",
       "13          Bedrooms             0.009510\n",
       "14    BelowGradeSqFt             0.006929\n",
       "15             Water             0.004470\n",
       "16    Central_Air_YN             0.003708\n",
       "17       Basement_YN             0.002021"
      ]
     },
     "execution_count": 71,
     "metadata": {},
     "output_type": "execute_result"
    }
   ],
   "source": [
    "pf"
   ]
  },
  {
   "cell_type": "markdown",
   "id": "3fc815ea",
   "metadata": {},
   "source": [
    "## Delta transformation\n"
   ]
  },
  {
   "cell_type": "code",
   "execution_count": 76,
   "id": "347e9d53",
   "metadata": {},
   "outputs": [],
   "source": [
    "zipcode_price_table = delta_df[[\"Orig_List_Price\" , \"Pred_List_Price_RFR_Unscaled\",\"Pred_List_Price_RFR_Scaled\"]].groupby(delta_df['Zip_Code']).mean()"
   ]
  },
  {
   "cell_type": "code",
   "execution_count": 77,
   "id": "ec9e4573",
   "metadata": {},
   "outputs": [
    {
     "data": {
      "text/html": [
       "<div>\n",
       "<style scoped>\n",
       "    .dataframe tbody tr th:only-of-type {\n",
       "        vertical-align: middle;\n",
       "    }\n",
       "\n",
       "    .dataframe tbody tr th {\n",
       "        vertical-align: top;\n",
       "    }\n",
       "\n",
       "    .dataframe thead th {\n",
       "        text-align: right;\n",
       "    }\n",
       "</style>\n",
       "<table border=\"1\" class=\"dataframe\">\n",
       "  <thead>\n",
       "    <tr style=\"text-align: right;\">\n",
       "      <th></th>\n",
       "      <th>Orig_List_Price</th>\n",
       "      <th>Pred_List_Price_RFR_Unscaled</th>\n",
       "      <th>Pred_List_Price_RFR_Scaled</th>\n",
       "    </tr>\n",
       "    <tr>\n",
       "      <th>Zip_Code</th>\n",
       "      <th></th>\n",
       "      <th></th>\n",
       "      <th></th>\n",
       "    </tr>\n",
       "  </thead>\n",
       "  <tbody>\n",
       "    <tr>\n",
       "      <th>19707</th>\n",
       "      <td>434042.989091</td>\n",
       "      <td>428290.539663</td>\n",
       "      <td>434512.721479</td>\n",
       "    </tr>\n",
       "    <tr>\n",
       "      <th>19711</th>\n",
       "      <td>359394.520101</td>\n",
       "      <td>360507.970379</td>\n",
       "      <td>365734.074506</td>\n",
       "    </tr>\n",
       "    <tr>\n",
       "      <th>19720</th>\n",
       "      <td>275412.582503</td>\n",
       "      <td>279554.071798</td>\n",
       "      <td>286382.239500</td>\n",
       "    </tr>\n",
       "    <tr>\n",
       "      <th>19732</th>\n",
       "      <td>580000.000000</td>\n",
       "      <td>491052.990000</td>\n",
       "      <td>457743.610000</td>\n",
       "    </tr>\n",
       "    <tr>\n",
       "      <th>19736</th>\n",
       "      <td>325000.000000</td>\n",
       "      <td>312520.660000</td>\n",
       "      <td>308262.200000</td>\n",
       "    </tr>\n",
       "    <tr>\n",
       "      <th>19801</th>\n",
       "      <td>277116.125000</td>\n",
       "      <td>277881.388760</td>\n",
       "      <td>279961.370278</td>\n",
       "    </tr>\n",
       "    <tr>\n",
       "      <th>19802</th>\n",
       "      <td>275578.648536</td>\n",
       "      <td>280736.049833</td>\n",
       "      <td>291996.678940</td>\n",
       "    </tr>\n",
       "    <tr>\n",
       "      <th>19803</th>\n",
       "      <td>396896.794286</td>\n",
       "      <td>390114.185038</td>\n",
       "      <td>395115.382825</td>\n",
       "    </tr>\n",
       "    <tr>\n",
       "      <th>19804</th>\n",
       "      <td>250353.475783</td>\n",
       "      <td>256462.996296</td>\n",
       "      <td>262391.690503</td>\n",
       "    </tr>\n",
       "    <tr>\n",
       "      <th>19805</th>\n",
       "      <td>254758.148699</td>\n",
       "      <td>257409.732487</td>\n",
       "      <td>263105.338451</td>\n",
       "    </tr>\n",
       "    <tr>\n",
       "      <th>19806</th>\n",
       "      <td>346723.528169</td>\n",
       "      <td>339073.123721</td>\n",
       "      <td>345367.519073</td>\n",
       "    </tr>\n",
       "    <tr>\n",
       "      <th>19807</th>\n",
       "      <td>535367.924528</td>\n",
       "      <td>485748.554906</td>\n",
       "      <td>489039.441132</td>\n",
       "    </tr>\n",
       "    <tr>\n",
       "      <th>19808</th>\n",
       "      <td>327078.900468</td>\n",
       "      <td>327337.366146</td>\n",
       "      <td>332683.859578</td>\n",
       "    </tr>\n",
       "  </tbody>\n",
       "</table>\n",
       "</div>"
      ],
      "text/plain": [
       "          Orig_List_Price  Pred_List_Price_RFR_Unscaled  \\\n",
       "Zip_Code                                                  \n",
       "19707       434042.989091                 428290.539663   \n",
       "19711       359394.520101                 360507.970379   \n",
       "19720       275412.582503                 279554.071798   \n",
       "19732       580000.000000                 491052.990000   \n",
       "19736       325000.000000                 312520.660000   \n",
       "19801       277116.125000                 277881.388760   \n",
       "19802       275578.648536                 280736.049833   \n",
       "19803       396896.794286                 390114.185038   \n",
       "19804       250353.475783                 256462.996296   \n",
       "19805       254758.148699                 257409.732487   \n",
       "19806       346723.528169                 339073.123721   \n",
       "19807       535367.924528                 485748.554906   \n",
       "19808       327078.900468                 327337.366146   \n",
       "\n",
       "          Pred_List_Price_RFR_Scaled  \n",
       "Zip_Code                              \n",
       "19707                  434512.721479  \n",
       "19711                  365734.074506  \n",
       "19720                  286382.239500  \n",
       "19732                  457743.610000  \n",
       "19736                  308262.200000  \n",
       "19801                  279961.370278  \n",
       "19802                  291996.678940  \n",
       "19803                  395115.382825  \n",
       "19804                  262391.690503  \n",
       "19805                  263105.338451  \n",
       "19806                  345367.519073  \n",
       "19807                  489039.441132  \n",
       "19808                  332683.859578  "
      ]
     },
     "execution_count": 77,
     "metadata": {},
     "output_type": "execute_result"
    }
   ],
   "source": [
    "zipcode_price_table"
   ]
  },
  {
   "cell_type": "code",
   "execution_count": 98,
   "id": "1b1bc99e",
   "metadata": {},
   "outputs": [
    {
     "data": {
      "image/png": "[encoded data removed]",
      "text/plain": [
       "<Figure size 640x480 with 1 Axes>"
      ]
     },
     "metadata": {},
     "output_type": "display_data"
    }
   ],
   "source": [
    "X = zipcode_price_table.index\n",
    "X_axis = np.arange(len(X))\n",
    "plt.bar(X_axis - 0.2,zipcode_price_table.Orig_List_Price,0.2,label=\"Original House Price\")\n",
    "plt.bar(X_axis + 0.2,zipcode_price_table.Pred_List_Price_RFR_Scaled,0.2,label=\"Scaled House Price\")\n",
    "plt.bar(X_axis,zipcode_price_table.Pred_List_Price_RFR_Unscaled,0.2,label=\"Unscaled House Price\")\n",
    "plt.xticks(X_axis, X)\n",
    "plt.tick_params(axis='x', rotation=50)\n",
    "plt.xlabel(\"ZipCode\")\n",
    "plt.ylabel(\"Housing Price ($)\")\n",
    "plt.title(\"Average House Price Based On Zipcode\")\n",
    "plt.legend()\n",
    "plt.tight_layout()\n",
    "plt.savefig(\"../Resources/average_house_price_zipcode.png\" ,dpi=400)\n",
    "plt.show()\n"
   ]
  },
  {
   "cell_type": "code",
   "execution_count": null,
   "id": "927eb0bd",
   "metadata": {},
   "outputs": [],
   "source": []
  }
 ],
 "metadata": {
  "kernelspec": {
   "display_name": "mlenv",
   "language": "python",
   "name": "mlenv"
  },
  "language_info": {
   "codemirror_mode": {
    "name": "ipython",
    "version": 3
   },
   "file_extension": ".py",
   "mimetype": "text/x-python",
   "name": "python",
   "nbconvert_exporter": "python",
   "pygments_lexer": "ipython3",
   "version": "3.7.15"
  }
 },
 "nbformat": 4,
 "nbformat_minor": 5
}
