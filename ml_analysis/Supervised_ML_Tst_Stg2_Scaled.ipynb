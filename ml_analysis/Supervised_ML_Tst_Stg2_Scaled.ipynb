{
 "cells": [
  {
   "cell_type": "code",
   "execution_count": 90,
   "id": "97936520",
   "metadata": {},
   "outputs": [],
   "source": [
    "#TODO POSSIBLE : Make A Zipcode Dictionary that refers to their code"
   ]
  },
  {
   "cell_type": "code",
   "execution_count": 91,
   "id": "905be87c",
   "metadata": {},
   "outputs": [],
   "source": [
    "import numpy as np\n",
    "import pandas as pd\n",
    "import matplotlib.pyplot as plt\n",
    "import psycopg2\n",
    "import pickle"
   ]
  },
  {
   "cell_type": "code",
   "execution_count": 92,
   "id": "5660b0f0",
   "metadata": {},
   "outputs": [],
   "source": [
    "from config import db_password"
   ]
  },
  {
   "cell_type": "code",
   "execution_count": 93,
   "id": "56e03bbd",
   "metadata": {},
   "outputs": [],
   "source": [
    "# Name the SQL database your are accessing\n",
    "database = \"RealLeads\""
   ]
  },
  {
   "cell_type": "code",
   "execution_count": 94,
   "id": "62eb4729",
   "metadata": {},
   "outputs": [],
   "source": [
    "# Make your local connection to the database in PostgreSQL\n",
    "conn = psycopg2.connect(\n",
    "    host=\"localhost\",\n",
    "    database=database,\n",
    "    user=\"postgres\",\n",
    "    password=db_password)"
   ]
  },
  {
   "cell_type": "code",
   "execution_count": 95,
   "id": "1327c9d6",
   "metadata": {},
   "outputs": [],
   "source": [
    "# Table selection Function\n",
    "def table_select(table_name):\n",
    "    table =f\"select * from \\\"{table_name}\\\"\"\n",
    "    dataFrame = pd.read_sql(table, conn)\n",
    "    return dataFrame"
   ]
  },
  {
   "cell_type": "code",
   "execution_count": 96,
   "id": "62197f04",
   "metadata": {},
   "outputs": [],
   "source": [
    "# Names of the tables to be imported\n",
    "id_table_df = table_select(\"id_table\")\n",
    "broker_df = table_select(\"broker_data_clean\")\n",
    "lat_lng_df = table_select(\"lat_lng_clean\")\n",
    "mortgage_df = table_select(\"mortgage_data_clean\")\n",
    "property_char_df = table_select(\"prop_charac_clean\")\n",
    "#public_rec_df = table_select(\"pub_rec_clean\")\n",
    "sales_data_df = table_select(\"sales_data_clean\")"
   ]
  },
  {
   "cell_type": "code",
   "execution_count": 97,
   "id": "11f325e8",
   "metadata": {},
   "outputs": [],
   "source": [
    "public_rec_df = pd.read_csv(\"../Resources/Clean_Data_12_8_22/Pub_Rec_clean.csv\")\n"
   ]
  },
  {
   "cell_type": "code",
   "execution_count": 98,
   "id": "c3587e4f",
   "metadata": {},
   "outputs": [],
   "source": [
    "ml_Temp = pd.read_csv(\"../Resources/ml_Data_Cleaned_Supervised_Learning.csv\")"
   ]
  },
  {
   "cell_type": "code",
   "execution_count": 99,
   "id": "d90fea95",
   "metadata": {},
   "outputs": [],
   "source": [
    "ml_df = pd.read_csv(\"../Resources/ml_DataFrame_No_NAN.csv\")"
   ]
  },
  {
   "cell_type": "code",
   "execution_count": 107,
   "id": "f0b6d87f",
   "metadata": {},
   "outputs": [
    {
     "data": {
      "text/html": [
       "<div>\n",
       "<style scoped>\n",
       "    .dataframe tbody tr th:only-of-type {\n",
       "        vertical-align: middle;\n",
       "    }\n",
       "\n",
       "    .dataframe tbody tr th {\n",
       "        vertical-align: top;\n",
       "    }\n",
       "\n",
       "    .dataframe thead th {\n",
       "        text-align: right;\n",
       "    }\n",
       "</style>\n",
       "<table border=\"1\" class=\"dataframe\">\n",
       "  <thead>\n",
       "    <tr style=\"text-align: right;\">\n",
       "      <th></th>\n",
       "      <th>Orig_List_Price</th>\n",
       "      <th>Zip_Code</th>\n",
       "      <th>Subdivision</th>\n",
       "      <th>School_District</th>\n",
       "      <th>HOA_YN</th>\n",
       "      <th>Structure_Type</th>\n",
       "      <th>Acres</th>\n",
       "      <th>InteriorSqFt</th>\n",
       "      <th>AboveGradeSqFt</th>\n",
       "      <th>BelowGradeSqFt</th>\n",
       "      <th>Bedrooms</th>\n",
       "      <th>Baths</th>\n",
       "      <th>NumberofStories</th>\n",
       "      <th>Central_Air_YN</th>\n",
       "      <th>Water</th>\n",
       "      <th>Basement_YN</th>\n",
       "      <th>Garage_YN</th>\n",
       "      <th>ExteriorMaterial</th>\n",
       "      <th>YearBuilt</th>\n",
       "    </tr>\n",
       "  </thead>\n",
       "  <tbody>\n",
       "    <tr>\n",
       "      <th>0</th>\n",
       "      <td>330000.0</td>\n",
       "      <td>13</td>\n",
       "      <td>461</td>\n",
       "      <td>4</td>\n",
       "      <td>2</td>\n",
       "      <td>1</td>\n",
       "      <td>0.26</td>\n",
       "      <td>2099.0</td>\n",
       "      <td>2099.0</td>\n",
       "      <td>0.0</td>\n",
       "      <td>4.0</td>\n",
       "      <td>2.0</td>\n",
       "      <td>27</td>\n",
       "      <td>2</td>\n",
       "      <td>12</td>\n",
       "      <td>2</td>\n",
       "      <td>2</td>\n",
       "      <td>205</td>\n",
       "      <td>87</td>\n",
       "    </tr>\n",
       "    <tr>\n",
       "      <th>1</th>\n",
       "      <td>215500.0</td>\n",
       "      <td>13</td>\n",
       "      <td>399</td>\n",
       "      <td>4</td>\n",
       "      <td>1</td>\n",
       "      <td>3</td>\n",
       "      <td>0.06</td>\n",
       "      <td>1927.0</td>\n",
       "      <td>1575.0</td>\n",
       "      <td>352.0</td>\n",
       "      <td>3.0</td>\n",
       "      <td>2.0</td>\n",
       "      <td>27</td>\n",
       "      <td>2</td>\n",
       "      <td>12</td>\n",
       "      <td>2</td>\n",
       "      <td>1</td>\n",
       "      <td>43</td>\n",
       "      <td>105</td>\n",
       "    </tr>\n",
       "    <tr>\n",
       "      <th>2</th>\n",
       "      <td>200000.0</td>\n",
       "      <td>13</td>\n",
       "      <td>618</td>\n",
       "      <td>4</td>\n",
       "      <td>1</td>\n",
       "      <td>3</td>\n",
       "      <td>0.05</td>\n",
       "      <td>1150.0</td>\n",
       "      <td>1150.0</td>\n",
       "      <td>0.0</td>\n",
       "      <td>2.0</td>\n",
       "      <td>2.0</td>\n",
       "      <td>27</td>\n",
       "      <td>2</td>\n",
       "      <td>12</td>\n",
       "      <td>2</td>\n",
       "      <td>1</td>\n",
       "      <td>291</td>\n",
       "      <td>114</td>\n",
       "    </tr>\n",
       "    <tr>\n",
       "      <th>3</th>\n",
       "      <td>219900.0</td>\n",
       "      <td>13</td>\n",
       "      <td>190</td>\n",
       "      <td>4</td>\n",
       "      <td>2</td>\n",
       "      <td>3</td>\n",
       "      <td>0.05</td>\n",
       "      <td>1425.0</td>\n",
       "      <td>1425.0</td>\n",
       "      <td>0.0</td>\n",
       "      <td>2.0</td>\n",
       "      <td>3.0</td>\n",
       "      <td>27</td>\n",
       "      <td>2</td>\n",
       "      <td>12</td>\n",
       "      <td>2</td>\n",
       "      <td>2</td>\n",
       "      <td>270</td>\n",
       "      <td>114</td>\n",
       "    </tr>\n",
       "    <tr>\n",
       "      <th>4</th>\n",
       "      <td>195000.0</td>\n",
       "      <td>13</td>\n",
       "      <td>546</td>\n",
       "      <td>4</td>\n",
       "      <td>1</td>\n",
       "      <td>1</td>\n",
       "      <td>0.14</td>\n",
       "      <td>0.0</td>\n",
       "      <td>0.0</td>\n",
       "      <td>0.0</td>\n",
       "      <td>4.0</td>\n",
       "      <td>3.0</td>\n",
       "      <td>12</td>\n",
       "      <td>1</td>\n",
       "      <td>12</td>\n",
       "      <td>2</td>\n",
       "      <td>2</td>\n",
       "      <td>237</td>\n",
       "      <td>83</td>\n",
       "    </tr>\n",
       "  </tbody>\n",
       "</table>\n",
       "</div>"
      ],
      "text/plain": [
       "   Orig_List_Price  Zip_Code  Subdivision  School_District  HOA_YN  \\\n",
       "0         330000.0        13          461                4       2   \n",
       "1         215500.0        13          399                4       1   \n",
       "2         200000.0        13          618                4       1   \n",
       "3         219900.0        13          190                4       2   \n",
       "4         195000.0        13          546                4       1   \n",
       "\n",
       "   Structure_Type  Acres  InteriorSqFt  AboveGradeSqFt  BelowGradeSqFt  \\\n",
       "0               1   0.26        2099.0          2099.0             0.0   \n",
       "1               3   0.06        1927.0          1575.0           352.0   \n",
       "2               3   0.05        1150.0          1150.0             0.0   \n",
       "3               3   0.05        1425.0          1425.0             0.0   \n",
       "4               1   0.14           0.0             0.0             0.0   \n",
       "\n",
       "   Bedrooms  Baths  NumberofStories  Central_Air_YN  Water  Basement_YN  \\\n",
       "0       4.0    2.0               27               2     12            2   \n",
       "1       3.0    2.0               27               2     12            2   \n",
       "2       2.0    2.0               27               2     12            2   \n",
       "3       2.0    3.0               27               2     12            2   \n",
       "4       4.0    3.0               12               1     12            2   \n",
       "\n",
       "   Garage_YN  ExteriorMaterial  YearBuilt  \n",
       "0          2               205         87  \n",
       "1          1                43        105  \n",
       "2          1               291        114  \n",
       "3          2               270        114  \n",
       "4          2               237         83  "
      ]
     },
     "execution_count": 107,
     "metadata": {},
     "output_type": "execute_result"
    }
   ],
   "source": [
    "ml_Temp.head()"
   ]
  },
  {
   "cell_type": "code",
   "execution_count": 108,
   "id": "265c9ffb",
   "metadata": {},
   "outputs": [
    {
     "data": {
      "text/html": [
       "<div>\n",
       "<style scoped>\n",
       "    .dataframe tbody tr th:only-of-type {\n",
       "        vertical-align: middle;\n",
       "    }\n",
       "\n",
       "    .dataframe tbody tr th {\n",
       "        vertical-align: top;\n",
       "    }\n",
       "\n",
       "    .dataframe thead th {\n",
       "        text-align: right;\n",
       "    }\n",
       "</style>\n",
       "<table border=\"1\" class=\"dataframe\">\n",
       "  <thead>\n",
       "    <tr style=\"text-align: right;\">\n",
       "      <th></th>\n",
       "      <th>MLSNumber</th>\n",
       "      <th>Orig_List_Price</th>\n",
       "      <th>Zip_Code</th>\n",
       "      <th>Subdivision</th>\n",
       "      <th>School_District</th>\n",
       "      <th>HOA_YN</th>\n",
       "      <th>Structure_Type</th>\n",
       "      <th>Acres</th>\n",
       "      <th>InteriorSqFt</th>\n",
       "      <th>AboveGradeSqFt</th>\n",
       "      <th>BelowGradeSqFt</th>\n",
       "      <th>Bedrooms</th>\n",
       "      <th>Baths</th>\n",
       "      <th>NumberofStories</th>\n",
       "      <th>Central_Air_YN</th>\n",
       "      <th>Water</th>\n",
       "      <th>Basement_YN</th>\n",
       "      <th>Garage_YN</th>\n",
       "      <th>ExteriorMaterial</th>\n",
       "      <th>YearBuilt</th>\n",
       "    </tr>\n",
       "  </thead>\n",
       "  <tbody>\n",
       "    <tr>\n",
       "      <th>0</th>\n",
       "      <td>DENC518086</td>\n",
       "      <td>330000.0</td>\n",
       "      <td>19808</td>\n",
       "      <td>SHERWOOD PARK II</td>\n",
       "      <td>Red Clay Consolidated</td>\n",
       "      <td>Yes</td>\n",
       "      <td>Detached</td>\n",
       "      <td>0.26</td>\n",
       "      <td>2099.0</td>\n",
       "      <td>2099.0</td>\n",
       "      <td>0.0</td>\n",
       "      <td>4.0</td>\n",
       "      <td>2.0</td>\n",
       "      <td>Main,Upper1</td>\n",
       "      <td>Yes</td>\n",
       "      <td>Public</td>\n",
       "      <td>Yes</td>\n",
       "      <td>Yes</td>\n",
       "      <td>BrickFront,VinylSiding</td>\n",
       "      <td>1958</td>\n",
       "    </tr>\n",
       "    <tr>\n",
       "      <th>1</th>\n",
       "      <td>DENC518982</td>\n",
       "      <td>215500.0</td>\n",
       "      <td>19808</td>\n",
       "      <td>PEPPER RIDGE</td>\n",
       "      <td>Red Clay Consolidated</td>\n",
       "      <td>No</td>\n",
       "      <td>Interior Row/Townhouse</td>\n",
       "      <td>0.06</td>\n",
       "      <td>1927.0</td>\n",
       "      <td>1575.0</td>\n",
       "      <td>352.0</td>\n",
       "      <td>3.0</td>\n",
       "      <td>2.0</td>\n",
       "      <td>Main,Upper1</td>\n",
       "      <td>Yes</td>\n",
       "      <td>Public</td>\n",
       "      <td>Yes</td>\n",
       "      <td>No</td>\n",
       "      <td>AluminumSiding,Brick,VinylSiding</td>\n",
       "      <td>1976</td>\n",
       "    </tr>\n",
       "    <tr>\n",
       "      <th>2</th>\n",
       "      <td>DENC512992</td>\n",
       "      <td>200000.0</td>\n",
       "      <td>19808</td>\n",
       "      <td>WOODMILL</td>\n",
       "      <td>Red Clay Consolidated</td>\n",
       "      <td>No</td>\n",
       "      <td>Interior Row/Townhouse</td>\n",
       "      <td>0.05</td>\n",
       "      <td>1150.0</td>\n",
       "      <td>1150.0</td>\n",
       "      <td>0.0</td>\n",
       "      <td>2.0</td>\n",
       "      <td>2.0</td>\n",
       "      <td>Main,Upper1</td>\n",
       "      <td>Yes</td>\n",
       "      <td>Public</td>\n",
       "      <td>Yes</td>\n",
       "      <td>No</td>\n",
       "      <td>VinylSiding</td>\n",
       "      <td>1985</td>\n",
       "    </tr>\n",
       "    <tr>\n",
       "      <th>3</th>\n",
       "      <td>DENC512104</td>\n",
       "      <td>219900.0</td>\n",
       "      <td>19808</td>\n",
       "      <td>FAIRWAY FALLS</td>\n",
       "      <td>Red Clay Consolidated</td>\n",
       "      <td>Yes</td>\n",
       "      <td>Interior Row/Townhouse</td>\n",
       "      <td>0.05</td>\n",
       "      <td>1425.0</td>\n",
       "      <td>1425.0</td>\n",
       "      <td>0.0</td>\n",
       "      <td>2.0</td>\n",
       "      <td>3.0</td>\n",
       "      <td>Main,Upper1</td>\n",
       "      <td>Yes</td>\n",
       "      <td>Public</td>\n",
       "      <td>Yes</td>\n",
       "      <td>Yes</td>\n",
       "      <td>Other</td>\n",
       "      <td>1985</td>\n",
       "    </tr>\n",
       "    <tr>\n",
       "      <th>4</th>\n",
       "      <td>DENC506356</td>\n",
       "      <td>195000.0</td>\n",
       "      <td>19808</td>\n",
       "      <td>WASHINGTON HEIGHTS</td>\n",
       "      <td>Red Clay Consolidated</td>\n",
       "      <td>No</td>\n",
       "      <td>Detached</td>\n",
       "      <td>0.14</td>\n",
       "      <td>0.0</td>\n",
       "      <td>0.0</td>\n",
       "      <td>0.0</td>\n",
       "      <td>4.0</td>\n",
       "      <td>3.0</td>\n",
       "      <td>Lower1,Main,Upper1</td>\n",
       "      <td>No</td>\n",
       "      <td>Public</td>\n",
       "      <td>Yes</td>\n",
       "      <td>Yes</td>\n",
       "      <td>Concrete,Stucco</td>\n",
       "      <td>1954</td>\n",
       "    </tr>\n",
       "  </tbody>\n",
       "</table>\n",
       "</div>"
      ],
      "text/plain": [
       "    MLSNumber  Orig_List_Price  Zip_Code         Subdivision  \\\n",
       "0  DENC518086         330000.0     19808    SHERWOOD PARK II   \n",
       "1  DENC518982         215500.0     19808        PEPPER RIDGE   \n",
       "2  DENC512992         200000.0     19808            WOODMILL   \n",
       "3  DENC512104         219900.0     19808       FAIRWAY FALLS   \n",
       "4  DENC506356         195000.0     19808  WASHINGTON HEIGHTS   \n",
       "\n",
       "         School_District HOA_YN          Structure_Type  Acres  InteriorSqFt  \\\n",
       "0  Red Clay Consolidated    Yes                Detached   0.26        2099.0   \n",
       "1  Red Clay Consolidated     No  Interior Row/Townhouse   0.06        1927.0   \n",
       "2  Red Clay Consolidated     No  Interior Row/Townhouse   0.05        1150.0   \n",
       "3  Red Clay Consolidated    Yes  Interior Row/Townhouse   0.05        1425.0   \n",
       "4  Red Clay Consolidated     No                Detached   0.14           0.0   \n",
       "\n",
       "   AboveGradeSqFt  BelowGradeSqFt  Bedrooms  Baths     NumberofStories  \\\n",
       "0          2099.0             0.0       4.0    2.0         Main,Upper1   \n",
       "1          1575.0           352.0       3.0    2.0         Main,Upper1   \n",
       "2          1150.0             0.0       2.0    2.0         Main,Upper1   \n",
       "3          1425.0             0.0       2.0    3.0         Main,Upper1   \n",
       "4             0.0             0.0       4.0    3.0  Lower1,Main,Upper1   \n",
       "\n",
       "  Central_Air_YN   Water Basement_YN Garage_YN  \\\n",
       "0            Yes  Public         Yes       Yes   \n",
       "1            Yes  Public         Yes        No   \n",
       "2            Yes  Public         Yes        No   \n",
       "3            Yes  Public         Yes       Yes   \n",
       "4             No  Public         Yes       Yes   \n",
       "\n",
       "                   ExteriorMaterial  YearBuilt  \n",
       "0            BrickFront,VinylSiding       1958  \n",
       "1  AluminumSiding,Brick,VinylSiding       1976  \n",
       "2                       VinylSiding       1985  \n",
       "3                             Other       1985  \n",
       "4                   Concrete,Stucco       1954  "
      ]
     },
     "execution_count": 108,
     "metadata": {},
     "output_type": "execute_result"
    }
   ],
   "source": [
    "ml_df.head()"
   ]
  },
  {
   "cell_type": "code",
   "execution_count": 102,
   "id": "57e4acc7",
   "metadata": {},
   "outputs": [
    {
     "data": {
      "text/plain": [
       "Index(['MLSNumber', 'Orig_List_Price', 'Zip_Code', 'Subdivision',\n",
       "       'School_District', 'HOA_YN', 'Structure_Type', 'Acres', 'InteriorSqFt',\n",
       "       'AboveGradeSqFt', 'BelowGradeSqFt', 'Bedrooms', 'Baths',\n",
       "       'NumberofStories', 'Central_Air_YN', 'Water', 'Basement_YN',\n",
       "       'Garage_YN', 'ExteriorMaterial', 'YearBuilt'],\n",
       "      dtype='object')"
      ]
     },
     "execution_count": 102,
     "metadata": {},
     "output_type": "execute_result"
    }
   ],
   "source": [
    "ml_df.columns"
   ]
  },
  {
   "cell_type": "code",
   "execution_count": 103,
   "id": "bc310bf4",
   "metadata": {},
   "outputs": [
    {
     "data": {
      "text/plain": [
       "Index(['Orig_List_Price', 'Zip_Code', 'Subdivision', 'School_District',\n",
       "       'HOA_YN', 'Structure_Type', 'Acres', 'InteriorSqFt', 'AboveGradeSqFt',\n",
       "       'BelowGradeSqFt', 'Bedrooms', 'Baths', 'NumberofStories',\n",
       "       'Central_Air_YN', 'Water', 'Basement_YN', 'Garage_YN',\n",
       "       'ExteriorMaterial', 'YearBuilt'],\n",
       "      dtype='object')"
      ]
     },
     "execution_count": 103,
     "metadata": {},
     "output_type": "execute_result"
    }
   ],
   "source": [
    "ml_Temp.columns"
   ]
  },
  {
   "cell_type": "code",
   "execution_count": 106,
   "id": "0910b982",
   "metadata": {},
   "outputs": [
    {
     "data": {
      "text/plain": [
       "dict_items([(19808, 13), (19807, 12), (19806, 11), (19805, 10), (19804, 9), (19803, 8), (19802, 7), (19801, 6), (19720, 3), (19736, 5), (19732, 4), (19711, 2), (19707, 1)])"
      ]
     },
     "execution_count": 106,
     "metadata": {},
     "output_type": "execute_result"
    }
   ],
   "source": [
    "zipcode_dict = dict(zip(ml_df.Zip_Code, ml_Temp.Zip_Code))\n",
    "zipcode_dict.items()"
   ]
  },
  {
   "cell_type": "code",
   "execution_count": 105,
   "id": "9e7bd6b6",
   "metadata": {},
   "outputs": [],
   "source": [
    "#Test Loading a machine learning model"
   ]
  },
  {
   "cell_type": "code",
   "execution_count": 111,
   "id": "c6e22fa5",
   "metadata": {},
   "outputs": [],
   "source": [
    "filename = 'RandomForestRegressor_model.sav'\n",
    "loaded_model = pickle.load(open(filename, 'rb'))\n",
    "result = loaded_model.score(ml_Temp.drop(columns=\"Orig_List_Price\"), ml_Temp[\"Orig_List_Price\"])\n",
    "res = loaded_model.predict(ml_Temp.drop(columns=\"Orig_List_Price\"))"
   ]
  },
  {
   "cell_type": "code",
   "execution_count": 112,
   "id": "8b505043",
   "metadata": {},
   "outputs": [
    {
     "data": {
      "text/plain": [
       "array([330013.99      , 224268.25      , 207087.        , ...,\n",
       "       514999.99      , 580620.98      , 350704.33333333])"
      ]
     },
     "execution_count": 112,
     "metadata": {},
     "output_type": "execute_result"
    }
   ],
   "source": [
    "res"
   ]
  },
  {
   "cell_type": "code",
   "execution_count": null,
   "id": "e9fac388",
   "metadata": {},
   "outputs": [],
   "source": []
  }
 ],
 "metadata": {
  "kernelspec": {
   "display_name": "mlenv",
   "language": "python",
   "name": "mlenv"
  },
  "language_info": {
   "codemirror_mode": {
    "name": "ipython",
    "version": 3
   },
   "file_extension": ".py",
   "mimetype": "text/x-python",
   "name": "python",
   "nbconvert_exporter": "python",
   "pygments_lexer": "ipython3",
   "version": "3.7.15"
  }
 },
 "nbformat": 4,
 "nbformat_minor": 5
}
