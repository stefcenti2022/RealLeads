{
 "cells": [
  {
   "cell_type": "markdown",
   "id": "0c90d93f",
   "metadata": {},
   "source": [
    "# ETL Public Remarks from Multi-Listing Service Data\n",
    "## Input:\n",
    "This notebook takes in a CSV file that contains the public remarks data from the MLS dataset.\n",
    "\n",
    "## Processing:\n",
    "The remarks data will be extracted and parsed for relavent words. Each word will be grouped by (? lat/lng, subdivision ?) with a count.\n",
    "\n",
    "## Output:\n",
    "A new CSV file will be created that can be uploaded in the RealLeads public_remarks table."
   ]
  },
  {
   "cell_type": "code",
   "execution_count": 1,
   "id": "90f9bc99",
   "metadata": {},
   "outputs": [],
   "source": [
    "# Imports\n",
    "import pandas as pd \n",
    "import numpy as np\n",
    "\n",
    "import re\n"
   ]
  },
  {
   "cell_type": "code",
   "execution_count": 2,
   "id": "e06c4353",
   "metadata": {},
   "outputs": [],
   "source": [
    "# This function will extract important words\n",
    "def extract_words(remark): \n",
    "    print(f\"Remarks: {remarks}\")\n",
    "\n",
    "def extract_remarks(remarks_file): \n",
    "    print(f\"Remarks dataset: {remarks_file}\")\n",
    "\n",
    "    # Read in the public remarks data into a DataFrame\n",
    "    remarks_data = pd.read_csv(remarks_file, low_memory=False)\n",
    "\n",
    "    return remarks_data\n"
   ]
  },
  {
   "cell_type": "code",
   "execution_count": 3,
   "id": "6d617cb6",
   "metadata": {},
   "outputs": [],
   "source": [
    "# Create path to the RealLeads data folder and file containing the remarks data.\n",
    "file_dir = '../../data'\n",
    "\n",
    "# Full path and name of file to be processed.\n",
    "remarks_file = f'{file_dir}/pub_remarks_orig.csv'\n"
   ]
  },
  {
   "cell_type": "code",
   "execution_count": 5,
   "id": "1b257dbc",
   "metadata": {},
   "outputs": [
    {
     "name": "stdout",
     "output_type": "stream",
     "text": [
      "Remarks dataset: ../../data/pub_remarks_orig.csv\n"
     ]
    },
    {
     "data": {
      "text/plain": [
       "Index(['MLSNumber', 'Address', 'PublicRemarks'], dtype='object')"
      ]
     },
     "execution_count": 5,
     "metadata": {},
     "output_type": "execute_result"
    }
   ],
   "source": [
    "# Get the remarks data in the form of a DataFrame\n",
    "pub_remarks_df = extract_remarks(remarks_file)\n",
    "\n",
    "pub_remarks_df.columns\n"
   ]
  },
  {
   "cell_type": "code",
   "execution_count": 7,
   "id": "09fa0453",
   "metadata": {},
   "outputs": [
    {
     "data": {
      "text/plain": [
       "\"Visit this home virtually: http://www.vht.com/434126322/IDXS - Welcome to this gorgeous home in Sherwood Park II!  This is a turnkey property, just ready for you to move right in.  Boasting one of the largest lots in the community, the exterior landscaping in both front and rear yards give this property wonderful curb appeal, plus a tranquil oasis to spend time relaxing and entertaining al fresco. On those cooler evenings you can move inside to the beautiful 3 season room and still enjoy the view of the beautiful landscaping!  The interior of this great home is equally inviting, there are hardwood floors throughout, with the exception of the family room and hallway where you will find ceramic wood plank tile which blends seamlessly with the hardwood. The oil furnace has been conveniently updated to gas as a back up to the electric heatpump which was replaced in 2015. All new interior doors, neutral paint throughout, upgraded electrical panel and additional insulation in the attic, this home is energy efficient, beautifully presented and lovingly updated and maintained throughout.   Don't miss this opportunity to own in the highly desirable community of Sherwood Park, conveniently situated for shopping and commuting both North and South. Schedule a tour today!  Professional photos to follow.\""
      ]
     },
     "execution_count": 7,
     "metadata": {},
     "output_type": "execute_result"
    }
   ],
   "source": [
    "# Note how this remark has a link to a virtual tour\n",
    "# Do we want to do anything special with this data?\n",
    "pub_remarks_df['PublicRemarks'][0]\n"
   ]
  },
  {
   "cell_type": "code",
   "execution_count": 8,
   "id": "6379f465",
   "metadata": {},
   "outputs": [
    {
     "data": {
      "text/plain": [
       "\"Visit this home virtually: http://www.vht.com/434062885/IDXS - Adorable 3 bedroom brick bungalow!  When you pull up to 3425 Cranston Avenue, you are greeted by a welcoming screened in porch.  As you step through the front door, you walk into the large living room with hardwood floors throughout.  Down the hall you'll find two bedroom and a full bathroom.  The back of the house has an eat-in kitchen and leads to the rear yard and detached one-car garage.  Upstairs is the oversized third bedroom with storage in the side closets and is currently being used as a sewing room.  The lower level with walk out bilco doors is unfinished with a full bathroom and plenty of space for storage or can be finished for an additional family room, etc.  Upgraded french drain system in 2018 and brand new roof in 2019.  Conveniently located to Prices Corner, Kirkwood Highway, 141, shopping and dining!\""
      ]
     },
     "execution_count": 8,
     "metadata": {},
     "output_type": "execute_result"
    }
   ],
   "source": [
    "# Note how this remark has a link to a virtual tour\n",
    "# Do we want to do anything special with this data?\n",
    "\n",
    "# We could have a separate table with MLS#, lat/lng and Virtual Tour link\n",
    "pub_remarks_df['PublicRemarks'][5]\n"
   ]
  },
  {
   "cell_type": "code",
   "execution_count": 9,
   "id": "86e73de6",
   "metadata": {},
   "outputs": [
    {
     "data": {
      "text/html": [
       "<div>\n",
       "<style scoped>\n",
       "    .dataframe tbody tr th:only-of-type {\n",
       "        vertical-align: middle;\n",
       "    }\n",
       "\n",
       "    .dataframe tbody tr th {\n",
       "        vertical-align: top;\n",
       "    }\n",
       "\n",
       "    .dataframe thead th {\n",
       "        text-align: right;\n",
       "    }\n",
       "</style>\n",
       "<table border=\"1\" class=\"dataframe\">\n",
       "  <thead>\n",
       "    <tr style=\"text-align: right;\">\n",
       "      <th></th>\n",
       "      <th>MLSNumber</th>\n",
       "      <th>Address</th>\n",
       "      <th>PublicRemarks</th>\n",
       "    </tr>\n",
       "  </thead>\n",
       "  <tbody>\n",
       "    <tr>\n",
       "      <th>0</th>\n",
       "      <td>DENC518086</td>\n",
       "      <td>2615 Pecksniff Rd</td>\n",
       "      <td>Visit this home virtually: http://www.vht.com/...</td>\n",
       "    </tr>\n",
       "    <tr>\n",
       "      <th>1</th>\n",
       "      <td>DENC518982</td>\n",
       "      <td>4938 S Tupelo Turn</td>\n",
       "      <td>3 bedroom, 1.5 bath townhome located in the he...</td>\n",
       "    </tr>\n",
       "    <tr>\n",
       "      <th>2</th>\n",
       "      <td>DENC512992</td>\n",
       "      <td>15 Kristina Ct</td>\n",
       "      <td>Location, Location, Location! This Woodmill to...</td>\n",
       "    </tr>\n",
       "    <tr>\n",
       "      <th>3</th>\n",
       "      <td>DENC512104</td>\n",
       "      <td>3251 Champions Dr</td>\n",
       "      <td>Move right into this 2 bedroom, 2.1 bath townh...</td>\n",
       "    </tr>\n",
       "    <tr>\n",
       "      <th>4</th>\n",
       "      <td>DENC503480</td>\n",
       "      <td>3706 Lafayette St</td>\n",
       "      <td>This nicely maintained home is being sold to s...</td>\n",
       "    </tr>\n",
       "    <tr>\n",
       "      <th>5</th>\n",
       "      <td>DENC501458</td>\n",
       "      <td>3425 Cranston Ave</td>\n",
       "      <td>Visit this home virtually: http://www.vht.com/...</td>\n",
       "    </tr>\n",
       "    <tr>\n",
       "      <th>6</th>\n",
       "      <td>DENC495076</td>\n",
       "      <td>2409 E Parris Dr</td>\n",
       "      <td>3 bedroom - 1.1 bath brick ranch being sold in...</td>\n",
       "    </tr>\n",
       "    <tr>\n",
       "      <th>7</th>\n",
       "      <td>DENC506356</td>\n",
       "      <td>1802 Fenpor Ave</td>\n",
       "      <td>Waiting on signatures.  WOW! This brick front ...</td>\n",
       "    </tr>\n",
       "    <tr>\n",
       "      <th>8</th>\n",
       "      <td>DENC524092</td>\n",
       "      <td>4309 Birch Cir</td>\n",
       "      <td>Welcome to 4309 Birch Cir in Birch Pointe. Thi...</td>\n",
       "    </tr>\n",
       "    <tr>\n",
       "      <th>9</th>\n",
       "      <td>DENC523094</td>\n",
       "      <td>5822 Pepper Ridge Ct</td>\n",
       "      <td>An unbelievable, unique rear view from this on...</td>\n",
       "    </tr>\n",
       "    <tr>\n",
       "      <th>10</th>\n",
       "      <td>DENC501750</td>\n",
       "      <td>3220 Champions Dr</td>\n",
       "      <td>Visit this home virtually: http://www.vht.com/...</td>\n",
       "    </tr>\n",
       "    <tr>\n",
       "      <th>11</th>\n",
       "      <td>DENC505216</td>\n",
       "      <td>424 Centerville Rd</td>\n",
       "      <td>Visit this home virtually: http://www.vht.com/...</td>\n",
       "    </tr>\n",
       "    <tr>\n",
       "      <th>12</th>\n",
       "      <td>DENC500680</td>\n",
       "      <td>3420 Cranston Ave</td>\n",
       "      <td>Cranston Heights.  This charming cape cod has ...</td>\n",
       "    </tr>\n",
       "    <tr>\n",
       "      <th>13</th>\n",
       "      <td>DENC521992</td>\n",
       "      <td>3 Carolina Ct</td>\n",
       "      <td>This starter home is perfect for a first time ...</td>\n",
       "    </tr>\n",
       "    <tr>\n",
       "      <th>14</th>\n",
       "      <td>DENC523212</td>\n",
       "      <td>3411 Haley Ct</td>\n",
       "      <td>All offers to be submitted by 2:30 p.m. 3/30/2...</td>\n",
       "    </tr>\n",
       "    <tr>\n",
       "      <th>15</th>\n",
       "      <td>DENC512816</td>\n",
       "      <td>4940 Mermaid Blvd</td>\n",
       "      <td>View the video online by following the link ht...</td>\n",
       "    </tr>\n",
       "    <tr>\n",
       "      <th>16</th>\n",
       "      <td>DENC510414</td>\n",
       "      <td>1108 Braken Ave</td>\n",
       "      <td>Visit this home virtually: http://www.vht.com/...</td>\n",
       "    </tr>\n",
       "    <tr>\n",
       "      <th>17</th>\n",
       "      <td>DENC517606</td>\n",
       "      <td>5099 W Woodmill Dr</td>\n",
       "      <td>Pride of ownership shows throughout this 2 bed...</td>\n",
       "    </tr>\n",
       "    <tr>\n",
       "      <th>18</th>\n",
       "      <td>DENC508042</td>\n",
       "      <td>4936 Tupelo Turn</td>\n",
       "      <td>Visit this home virtually: http://www.vht.com/...</td>\n",
       "    </tr>\n",
       "    <tr>\n",
       "      <th>19</th>\n",
       "      <td>DENC500644</td>\n",
       "      <td>5059 E Woodmill Dr</td>\n",
       "      <td>Visit this home virtually: http://www.vht.com/...</td>\n",
       "    </tr>\n",
       "  </tbody>\n",
       "</table>\n",
       "</div>"
      ],
      "text/plain": [
       "     MLSNumber               Address  \\\n",
       "0   DENC518086     2615 Pecksniff Rd   \n",
       "1   DENC518982    4938 S Tupelo Turn   \n",
       "2   DENC512992        15 Kristina Ct   \n",
       "3   DENC512104     3251 Champions Dr   \n",
       "4   DENC503480     3706 Lafayette St   \n",
       "5   DENC501458     3425 Cranston Ave   \n",
       "6   DENC495076      2409 E Parris Dr   \n",
       "7   DENC506356       1802 Fenpor Ave   \n",
       "8   DENC524092        4309 Birch Cir   \n",
       "9   DENC523094  5822 Pepper Ridge Ct   \n",
       "10  DENC501750     3220 Champions Dr   \n",
       "11  DENC505216    424 Centerville Rd   \n",
       "12  DENC500680     3420 Cranston Ave   \n",
       "13  DENC521992         3 Carolina Ct   \n",
       "14  DENC523212         3411 Haley Ct   \n",
       "15  DENC512816     4940 Mermaid Blvd   \n",
       "16  DENC510414       1108 Braken Ave   \n",
       "17  DENC517606    5099 W Woodmill Dr   \n",
       "18  DENC508042      4936 Tupelo Turn   \n",
       "19  DENC500644    5059 E Woodmill Dr   \n",
       "\n",
       "                                        PublicRemarks  \n",
       "0   Visit this home virtually: http://www.vht.com/...  \n",
       "1   3 bedroom, 1.5 bath townhome located in the he...  \n",
       "2   Location, Location, Location! This Woodmill to...  \n",
       "3   Move right into this 2 bedroom, 2.1 bath townh...  \n",
       "4   This nicely maintained home is being sold to s...  \n",
       "5   Visit this home virtually: http://www.vht.com/...  \n",
       "6   3 bedroom - 1.1 bath brick ranch being sold in...  \n",
       "7   Waiting on signatures.  WOW! This brick front ...  \n",
       "8   Welcome to 4309 Birch Cir in Birch Pointe. Thi...  \n",
       "9   An unbelievable, unique rear view from this on...  \n",
       "10  Visit this home virtually: http://www.vht.com/...  \n",
       "11  Visit this home virtually: http://www.vht.com/...  \n",
       "12  Cranston Heights.  This charming cape cod has ...  \n",
       "13  This starter home is perfect for a first time ...  \n",
       "14  All offers to be submitted by 2:30 p.m. 3/30/2...  \n",
       "15  View the video online by following the link ht...  \n",
       "16  Visit this home virtually: http://www.vht.com/...  \n",
       "17  Pride of ownership shows throughout this 2 bed...  \n",
       "18  Visit this home virtually: http://www.vht.com/...  \n",
       "19  Visit this home virtually: http://www.vht.com/...  "
      ]
     },
     "execution_count": 9,
     "metadata": {},
     "output_type": "execute_result"
    }
   ],
   "source": [
    "pub_remarks_df.head(20)\n"
   ]
  },
  {
   "cell_type": "code",
   "execution_count": null,
   "id": "ffe673d9",
   "metadata": {},
   "outputs": [],
   "source": []
  }
 ],
 "metadata": {
  "kernelspec": {
   "display_name": "mlenv",
   "language": "python",
   "name": "mlenv"
  },
  "language_info": {
   "codemirror_mode": {
    "name": "ipython",
    "version": 3
   },
   "file_extension": ".py",
   "mimetype": "text/x-python",
   "name": "python",
   "nbconvert_exporter": "python",
   "pygments_lexer": "ipython3",
   "version": "3.7.15"
  }
 },
 "nbformat": 4,
 "nbformat_minor": 5
}
