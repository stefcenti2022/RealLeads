{
 "cells": [
  {
   "cell_type": "code",
   "execution_count": null,
   "id": "95a8be59",
   "metadata": {},
   "outputs": [],
   "source": [
    "import pandas as pd\n",
    "import numpy as np\n",
    "import pathlib as Path\n",
    "import datetime as dt\n",
    "import matplotlib.pyplot as plt\n",
    "from sklearn.preprocessing import StandardScaler, MinMaxScaler\n",
    "from sklearn.decomposition import PCA\n",
    "from sklearn.cluster import KMeans"
   ]
  },
  {
   "cell_type": "code",
   "execution_count": null,
   "id": "ff4a2cf9",
   "metadata": {},
   "outputs": [],
   "source": [
    "from sklearn.metrics import balanced_accuracy_score\n",
    "from sklearn.metrics import confusion_matrix\n",
    "from imblearn.metrics import classification_report_imbalanced"
   ]
  },
  {
   "cell_type": "code",
   "execution_count": null,
   "id": "fc320df2",
   "metadata": {},
   "outputs": [],
   "source": [
    "df_pr = pd.read_excel(\"Resources/FullMLS_PublicRecordData/Public_Record_Official_12_5_22.xlsx\")\n",
    "df_pr"
   ]
  },
  {
   "cell_type": "code",
   "execution_count": null,
   "id": "f57dbbec",
   "metadata": {
    "scrolled": false
   },
   "outputs": [],
   "source": [
    "df_pr.info(verbose=True)"
   ]
  },
  {
   "cell_type": "code",
   "execution_count": null,
   "id": "500ee64f",
   "metadata": {
    "scrolled": false
   },
   "outputs": [],
   "source": [
    "# Drop unnecessary columns\n",
    "df_pr = df_pr.drop(columns=[\"OwnerNames\", \"PropertyCityState\", \"OwnerLastName\", \"OwnerFirstName\", \"Owner2LastName\", \"Owner2FirstName\", \"Owner3LastName\", \"Owner3FirstName\", \"Owner3LastName\", \"Owner3FirstName\", \"Owner4LastName\", \"Owner4FirstName\",\"OwnerCareOf\",\"OwnerDoNotMail\", \"QualCode\" , \"CensusTractBlock\", \"LandUse\", \"CountyLandDesc\", \"PoolType\", \"PropertyAddressFormatted\"])\n",
    "df_pr"
   ]
  },
  {
   "cell_type": "code",
   "execution_count": null,
   "id": "5624ffae",
   "metadata": {},
   "outputs": [],
   "source": [
    "# Determine the number of unique values in each column.\n",
    "df_pr.nunique()"
   ]
  },
  {
   "cell_type": "code",
   "execution_count": null,
   "id": "e5d08f11",
   "metadata": {
    "scrolled": true
   },
   "outputs": [],
   "source": [
    "# Drop unnecessary columns\n",
    "df_pr = df_pr.drop(columns=[\"YearRemod\", \"TaxYear\", \"OwnerZipCode\", \"OwnerZip4\"])\n",
    "df_pr"
   ]
  },
  {
   "cell_type": "code",
   "execution_count": null,
   "id": "b0bfcc33",
   "metadata": {},
   "outputs": [],
   "source": [
    "df_pr.info(verbose=True)"
   ]
  },
  {
   "cell_type": "code",
   "execution_count": null,
   "id": "24e0ceb8",
   "metadata": {
    "scrolled": false
   },
   "outputs": [],
   "source": [
    "# Generate our categorical variable lists\n",
    "obj_list = df_pr.dtypes[df_pr.dtypes == \"object\"].index.tolist()\n",
    "obj_list"
   ]
  },
  {
   "cell_type": "code",
   "execution_count": null,
   "id": "71c0e65b",
   "metadata": {},
   "outputs": [],
   "source": [
    "# Determine the number of unique values in each column.\n",
    "df_pr.nunique()"
   ]
  },
  {
   "cell_type": "code",
   "execution_count": null,
   "id": "c7be6a87",
   "metadata": {},
   "outputs": [],
   "source": [
    "# Use get_dummies() to create variables for text features.\n",
    "X = pd.get_dummies(data=df_pr, columns=['MLS Number',\n",
    " 'CarrierRoute',\n",
    " 'PropDoNotMail',\n",
    " 'OwnerAddress',\n",
    " 'OwnerCityState',\n",
    " 'OwnerCarrierRoute',\n",
    " 'Municipality',\n",
    " 'SubdivisionNeighborhood',\n",
    " 'TaxID',\n",
    " 'TaxIDAlt',\n",
    " 'Block',\n",
    " 'Lot',\n",
    " 'SchoolDistrict',\n",
    " 'SaleType',\n",
    " 'PropertyClass',\n",
    " 'CondoYN',\n",
    " 'LotShape',\n",
    " 'Zoning',\n",
    " 'Exterior',\n",
    " 'BsmtDesc',\n",
    " 'GrgType',\n",
    " 'HeatDelivery'])\n",
    "X.head(10)"
   ]
  },
  {
   "cell_type": "code",
   "execution_count": null,
   "id": "985dc132",
   "metadata": {
    "scrolled": true
   },
   "outputs": [],
   "source": [
    "# Standardize the data with StandardScaler().\n",
    "df_pr = StandardScaler().fit_transform(X)\n",
    "df_pr[0:5]"
   ]
  },
  {
   "cell_type": "code",
   "execution_count": null,
   "id": "e1cb1ba4",
   "metadata": {},
   "outputs": [],
   "source": [
    "# Using PCA to reduce dimension to three principal components.\n",
    "pca = PCA(n_components=2)\n",
    "\n",
    "pr_pca = pca.fit_transform(df_pr)"
   ]
  },
  {
   "cell_type": "code",
   "execution_count": null,
   "id": "72b24ddc",
   "metadata": {},
   "outputs": [],
   "source": [
    "# Transform PCA data to a dataframe\n",
    "df_pr_pca = pd.DataFrame(\n",
    "    data=pr_pca, columns=[\"principal component 1\", \"principal component 2\"]\n",
    ")\n",
    "df_pr_pca"
   ]
  },
  {
   "cell_type": "code",
   "execution_count": null,
   "id": "8794827d",
   "metadata": {},
   "outputs": [],
   "source": [
    "# Fetch the explained variance\n",
    "pca.explained_variance_ratio_"
   ]
  },
  {
   "cell_type": "code",
   "execution_count": null,
   "id": "fe668582",
   "metadata": {},
   "outputs": [],
   "source": [
    "# Find the best value for K\n",
    "inertia = []\n",
    "k = list(range(1, 11))\n",
    "\n",
    "# Calculate the inertia for the range of K values\n",
    "for i in k:\n",
    "    km = KMeans(n_clusters=i, random_state=0)\n",
    "    km.fit(df_pr_pca)\n",
    "    inertia.append(km.inertia_)\n",
    "\n",
    "# Create the elbow curve\n",
    "elbow_data = {\"k\": k, \"inertia\": inertia}\n",
    "df_elbow = pd.DataFrame(elbow_data)\n",
    "df_elbow.hvplot.line(x=\"k\", y=\"inertia\", xticks=k, title=\"Elbow Curve\")"
   ]
  },
  {
   "cell_type": "code",
   "execution_count": null,
   "id": "84a20a57",
   "metadata": {},
   "outputs": [],
   "source": [
    "# Initialize the K-means model\n",
    "model = KMeans(n_clusters=3, random_state=0)\n",
    "\n",
    "# Fit the model\n",
    "model.fit(df_pr_pca)\n",
    "\n",
    "# Predict clusters\n",
    "predictions = model.predict(df_pr_pca)\n",
    "\n",
    "# Add the predicted class columns\n",
    "df_pr_pca[\"class\"] = model.labels_\n",
    "df_pr_pca.head()"
   ]
  },
  {
   "cell_type": "code",
   "execution_count": null,
   "id": "46978b92",
   "metadata": {},
   "outputs": [],
   "source": [
    "df_pr_pca.hvplot.scatter(\n",
    "    x=\"principal component 1\",\n",
    "    y=\"principal component 2\",\n",
    "    hover_cols=[\"class\"],\n",
    "    by=\"class\",\n",
    ")"
   ]
  }
 ],
 "metadata": {
  "kernelspec": {
   "display_name": "mlenv",
   "language": "python",
   "name": "mlenv"
  },
  "language_info": {
   "codemirror_mode": {
    "name": "ipython",
    "version": 3
   },
   "file_extension": ".py",
   "mimetype": "text/x-python",
   "name": "python",
   "nbconvert_exporter": "python",
   "pygments_lexer": "ipython3",
   "version": "3.7.15"
  }
 },
 "nbformat": 4,
 "nbformat_minor": 5
}
